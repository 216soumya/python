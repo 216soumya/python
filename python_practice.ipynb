{
  "nbformat": 4,
  "nbformat_minor": 0,
  "metadata": {
    "colab": {
      "name": "python_practice.ipynb",
      "provenance": [],
      "collapsed_sections": [],
      "authorship_tag": "ABX9TyPWprQU/6aryvCtQ1ZLHmwo",
      "include_colab_link": true
    },
    "kernelspec": {
      "name": "python3",
      "display_name": "Python 3"
    },
    "language_info": {
      "name": "python"
    }
  },
  "cells": [
    {
      "cell_type": "markdown",
      "metadata": {
        "id": "view-in-github",
        "colab_type": "text"
      },
      "source": [
        "<a href=\"https://colab.research.google.com/github/216soumya/python/blob/main/python_practice.ipynb\" target=\"_parent\"><img src=\"https://colab.research.google.com/assets/colab-badge.svg\" alt=\"Open In Colab\"/></a>"
      ]
    },
    {
      "cell_type": "code",
      "metadata": {
        "colab": {
          "base_uri": "https://localhost:8080/"
        },
        "id": "F8XEYYR-NU8s",
        "outputId": "a34cfbc0-7dc5-450d-fcbe-5a87b5dd541f"
      },
      "source": [
        "print(type('Soumya'))\n",
        "print(type(1))\n",
        "\n",
        "x = 10\n",
        "y = 20\n",
        "print(x + y)\n",
        "\n",
        "x, y = y, x\n",
        "print(x, y)"
      ],
      "execution_count": 4,
      "outputs": [
        {
          "output_type": "stream",
          "text": [
            "<class 'str'>\n",
            "<class 'int'>\n",
            "30\n",
            "20 10\n"
          ],
          "name": "stdout"
        }
      ]
    },
    {
      "cell_type": "code",
      "metadata": {
        "colab": {
          "base_uri": "https://localhost:8080/"
        },
        "id": "8E2GhvKuOFGU",
        "outputId": "062424e8-5bfb-4b95-cd56-b4606819c5ea"
      },
      "source": [
        "divisor, divident = 9, 7\n",
        "ans = divident / divisor\n",
        "print(ans)\n",
        "a, b, c, d = 2, 34, 6, 45\n",
        "\n",
        "ans = a + b * c / d\n",
        "print(ans)\n",
        "\n",
        "# ** is power\n",
        "exp = a ** b\n",
        "print(exp)\n",
        "\n",
        "mod = b % a\n",
        "print(mod)\n",
        "\n",
        "# // returns integer division result\n",
        "intDiv = d // a\n",
        "# / returns float division result\n",
        "div = d / a\n",
        "print(div, intDiv)\n"
      ],
      "execution_count": 6,
      "outputs": [
        {
          "output_type": "stream",
          "text": [
            "0.7777777777777778\n",
            "6.533333333333333\n",
            "17179869184\n",
            "0\n",
            "22.5 22\n"
          ],
          "name": "stdout"
        }
      ]
    },
    {
      "cell_type": "code",
      "metadata": {
        "colab": {
          "base_uri": "https://localhost:8080/"
        },
        "id": "pF4-6gtlPA7X",
        "outputId": "f7bf76bc-c273-418f-9d4a-0e3bee127443"
      },
      "source": [
        "num = 100\n",
        "print(num * 2)\n",
        "print(num)\n",
        "\n",
        "num *= 3\n",
        "print(num)\n",
        "\n"
      ],
      "execution_count": 10,
      "outputs": [
        {
          "output_type": "stream",
          "text": [
            "200\n",
            "100\n",
            "300\n"
          ],
          "name": "stdout"
        }
      ]
    },
    {
      "cell_type": "code",
      "metadata": {
        "colab": {
          "base_uri": "https://localhost:8080/"
        },
        "id": "lzp9N5wqQ9xc",
        "outputId": "8274b050-a315-4ff0-ee3e-c245a5c61274"
      },
      "source": [
        "#bool\n",
        "is_active = True\n",
        "inactive = not is_active\n",
        "print(is_active)\n",
        "print(not is_active)\n",
        "\n",
        "#str\n",
        "new_string = \"hello i am soumya!\"\n",
        "print(new_string)\n",
        "\n",
        "#list\n",
        "my_number = [1, 2, 4, 3]\n",
        "print(type(my_number))\n",
        "print(my_number[2])\n",
        "\n",
        "#dict\n",
        "my_name = {'first_name': \"soumya\", 'last_name': \"ranjan\"}\n",
        "print(my_name)\n",
        "\n",
        "\n",
        "#list\n",
        "my_number = [1, 2, 4, 3]\n",
        "print(my_number)\n",
        "print(my_number[2])\n",
        "\n"
      ],
      "execution_count": 16,
      "outputs": [
        {
          "output_type": "stream",
          "text": [
            "True\n",
            "False\n",
            "hello i am soumya!\n",
            "<class 'list'>\n",
            "4\n",
            "{'first_name': 'soumya', 'last_name': 'ranjan'}\n",
            "[1, 2, 4, 3]\n",
            "4\n"
          ],
          "name": "stdout"
        }
      ]
    },
    {
      "cell_type": "code",
      "metadata": {
        "colab": {
          "base_uri": "https://localhost:8080/"
        },
        "id": "y6tJ08pyT1ss",
        "outputId": "4a3deed1-3387-4576-b4dc-d13ae38b0cc7"
      },
      "source": [
        "int = 65\n",
        "print(type(int))\n",
        "\n"
      ],
      "execution_count": 22,
      "outputs": [
        {
          "output_type": "stream",
          "text": [
            "<class 'int'>\n"
          ],
          "name": "stdout"
        }
      ]
    },
    {
      "cell_type": "code",
      "metadata": {
        "colab": {
          "base_uri": "https://localhost:8080/"
        },
        "id": "gJ35oJgbW_kX",
        "outputId": "4ea407d8-63ad-4ea2-e35f-295d30b71b91"
      },
      "source": [
        "print(\"What's your favorite game?\")\n",
        "game = input()\n",
        "print(\"Your fav is: \" + game)"
      ],
      "execution_count": 29,
      "outputs": [
        {
          "output_type": "stream",
          "text": [
            "What's your favorite game?\n",
            "cricket\n",
            "Your fav is: cricket\n"
          ],
          "name": "stdout"
        }
      ]
    },
    {
      "cell_type": "code",
      "metadata": {
        "colab": {
          "base_uri": "https://localhost:8080/"
        },
        "id": "4Dl_qqedXl9p",
        "outputId": "1f6c8edd-841b-49fd-8073-974313680785"
      },
      "source": [
        "name = \"soumya\"\n",
        "\n",
        "if name is \"soumya\":\n",
        "    print(\"First Name\")\n",
        "elif name is \"ranjan\":\n",
        "    print(\"Last Name\")\n",
        "else:\n",
        "    print(\"Wrong Name\")\n",
        "\n"
      ],
      "execution_count": 31,
      "outputs": [
        {
          "output_type": "stream",
          "text": [
            "First Name\n"
          ],
          "name": "stdout"
        }
      ]
    },
    {
      "cell_type": "code",
      "metadata": {
        "colab": {
          "base_uri": "https://localhost:8080/"
        },
        "id": "n_xTe4FpYYiq",
        "outputId": "c8ffc729-0a52-4fea-8031-1b5cc12f1564"
      },
      "source": [
        "name = \"ranjan\"\n",
        "if name == \"soumya\":\n",
        "    print(\"First Name\")\n",
        "elif name == \"ranjan\":\n",
        "    print(\"Last Name\")\n",
        "else:\n",
        "    print(\"Wrong Name\")"
      ],
      "execution_count": 33,
      "outputs": [
        {
          "output_type": "stream",
          "text": [
            "Last Name\n"
          ],
          "name": "stdout"
        }
      ]
    },
    {
      "cell_type": "code",
      "metadata": {
        "colab": {
          "base_uri": "https://localhost:8080/"
        },
        "id": "pGeSRkdlZjYf",
        "outputId": "27c7d86d-a8e4-4a7b-c48a-da6c851db9d5"
      },
      "source": [
        "age, sex = 18, \"male\"\n",
        "\n",
        "if age > 18 and sex is \"male\":\n",
        "    print(\"Go and Get Marry\")\n",
        "else:\n",
        "    print(\"You don't have to marry\")\n",
        "\n",
        "\n"
      ],
      "execution_count": 47,
      "outputs": [
        {
          "output_type": "stream",
          "text": [
            "You don't have to marry\n"
          ],
          "name": "stdout"
        }
      ]
    },
    {
      "cell_type": "code",
      "metadata": {
        "colab": {
          "base_uri": "https://localhost:8080/"
        },
        "id": "MSFDvEELaIvi",
        "outputId": "520f4806-bfea-4d8e-d8fa-9b5821bd28b3"
      },
      "source": [
        "name = \"soumya\"\n",
        "\n",
        "for char in name:\n",
        "    print(char)\n",
        "\n",
        "# range(a, b, c): >=a to < b, c is the weight of each step[optional]\n",
        "for number in range(-3, 5, 2):\n",
        "    print(number)\n",
        "\n",
        "prices = [10, 12, 15, 9, 11, 13]\n",
        "\n",
        "for price in prices:\n",
        "    print(price)\n",
        "\n",
        "for _ in range(4):\n",
        "    print(\"lol\")"
      ],
      "execution_count": 50,
      "outputs": [
        {
          "output_type": "stream",
          "text": [
            "s\n",
            "o\n",
            "u\n",
            "m\n",
            "y\n",
            "a\n",
            "-3\n",
            "-1\n",
            "1\n",
            "3\n",
            "10\n",
            "12\n",
            "15\n",
            "9\n",
            "11\n",
            "13\n",
            "lol\n",
            "lol\n",
            "lol\n",
            "lol\n"
          ],
          "name": "stdout"
        }
      ]
    },
    {
      "cell_type": "code",
      "metadata": {
        "colab": {
          "base_uri": "https://localhost:8080/"
        },
        "id": "QIDpmdVedCgn",
        "outputId": "eb767898-956e-47de-a5d2-dd01870caca4"
      },
      "source": [
        "val = 10\n",
        "\n",
        "while val < 20:\n",
        "    print(val)\n",
        "    \n",
        "\n",
        "print(\"what's the password?\")\n",
        "msg = input()\n",
        "while msg != \"password\":\n",
        "    print(\"WRONG!\")\n",
        "    print(\"what's the password?\")\n",
        "    msg = input()\n",
        "print(\"CORRECT!\")"
      ],
      "execution_count": 54,
      "outputs": [
        {
          "output_type": "stream",
          "text": [
            "10\n",
            "12\n",
            "14\n",
            "16\n",
            "18\n",
            "what's the password?\n",
            "password\n",
            "CORRECT!\n"
          ],
          "name": "stdout"
        }
      ]
    },
    {
      "cell_type": "code",
      "metadata": {
        "colab": {
          "base_uri": "https://localhost:8080/"
        },
        "id": "JcTh0tiNeXIG",
        "outputId": "12292be0-5931-4669-8bdc-305ca3de9f98"
      },
      "source": [
        "my_list = [\"soumya\", 20, True, 45.678]\n",
        "\n",
        "print(my_list)\n",
        "print(len(my_list))\n",
        "\n",
        "for item in my_list:\n",
        "    print(item, end=' ')\n",
        "print()\n",
        "\n",
        "r = range(-10, 10)\n",
        "print(r)\n",
        "print(list(r))\n",
        "\n",
        "games = [\"cricket\", \"hockey\", \"football\", \"WWE\"]\n",
        "\n",
        "# iterate using for-loop\n",
        "for game in games:\n",
        "    print(color, end=' ')\n",
        "print()\n",
        "\n",
        "# iterate using while loop\n",
        "x = 0\n",
        "while x < len(games):\n",
        "    print(colors[x], end=' ')\n",
        "    x += 1"
      ],
      "execution_count": 57,
      "outputs": [
        {
          "output_type": "stream",
          "text": [
            "['soumya', 20, True, 45.678]\n",
            "4\n",
            "soumya 20 True 45.678 \n",
            "range(-10, 10)\n",
            "[-10, -9, -8, -7, -6, -5, -4, -3, -2, -1, 0, 1, 2, 3, 4, 5, 6, 7, 8, 9]\n",
            "blue blue blue blue \n",
            "purple teal magenta blue "
          ],
          "name": "stdout"
        }
      ]
    },
    {
      "cell_type": "code",
      "metadata": {
        "colab": {
          "base_uri": "https://localhost:8080/"
        },
        "id": "-4b_lqlxfQal",
        "outputId": "0a1e31e6-ef27-415a-d139-502eafbeb2a1"
      },
      "source": [
        "list = []\n",
        "list.append(10)\n",
        "list.append(20)\n",
        "list.append(30)\n",
        "print(list)\n",
        "\n",
        "list_one = [1, 2, 4]\n",
        "list_two = [5, 6, 7, 8]\n",
        "list_one.insert(2, 3)\n",
        "print(list_one)\n",
        "\n",
        "demo = list_one\n",
        "print(demo.pop())\n",
        "print(demo.pop(1))\n",
        "\n",
        "nums = [1, 3, 4, 6, 5, 4]\n",
        "nums.remove(5)\n",
        "print(nums)"
      ],
      "execution_count": 63,
      "outputs": [
        {
          "output_type": "stream",
          "text": [
            "[10, 20, 30]\n",
            "[1, 2, 3, 4]\n",
            "4\n",
            "2\n",
            "[1, 3, 4, 6, 4]\n"
          ],
          "name": "stdout"
        }
      ]
    },
    {
      "cell_type": "code",
      "metadata": {
        "colab": {
          "base_uri": "https://localhost:8080/"
        },
        "id": "nzvZeUKsgVgd",
        "outputId": "618be2d7-77e1-4eb0-959f-eda55f9b191b"
      },
      "source": [
        "list1 = [1, 2, 3, 4, 1, 1, 1, 4, 5]\n",
        " \n",
        "print(list1.index(3))\n",
        " \n",
        "list2 = ['cat', 'bat', 'mat', 'cat', 'pet']\n",
        " \n",
        "print(list2.index('pet'))"
      ],
      "execution_count": 73,
      "outputs": [
        {
          "output_type": "stream",
          "text": [
            "2\n",
            "4\n"
          ],
          "name": "stdout"
        }
      ]
    },
    {
      "cell_type": "code",
      "metadata": {
        "colab": {
          "base_uri": "https://localhost:8080/"
        },
        "id": "3ca9HJdNhz4V",
        "outputId": "908eb592-5d7c-44e0-da8a-961b54b510e2"
      },
      "source": [
        "first_list = [1, 2, 3, 4, 5, 6]\n",
        "# exclusing counting\n",
        "print(first_list[2:])       \n",
        "print(first_list[:4])       \n",
        "print(first_list[1:5])      \n",
        "\n",
        "# [start:end:step]\n",
        "print(first_list[10:])      \n",
        "print(first_list[1::3])     \n",
        "print(first_list[1:6:2])    \n",
        "print(first_list[::2])      \n",
        "\n",
        "print(first_list[1::-1])    \n",
        "print(first_list[:1:-1])    \n",
        "print(first_list[2::-1])    "
      ],
      "execution_count": 75,
      "outputs": [
        {
          "output_type": "stream",
          "text": [
            "[3, 4, 5, 6]\n",
            "[1, 2, 3, 4]\n",
            "[2, 3, 4, 5]\n",
            "[]\n",
            "[2, 5]\n",
            "[2, 4, 6]\n",
            "[1, 3, 5]\n",
            "[2, 1]\n",
            "[6, 5, 4, 3]\n",
            "[3, 2, 1]\n"
          ],
          "name": "stdout"
        }
      ]
    },
    {
      "cell_type": "code",
      "metadata": {
        "colab": {
          "base_uri": "https://localhost:8080/"
        },
        "id": "5jNbbtFsj2q4",
        "outputId": "5e286e4d-7bb6-433e-cb30-da8da4a5d0ef"
      },
      "source": [
        "nums = [1, 2, 3, 4]\n",
        "\n",
        "nums = [x*10 for x in nums]\n",
        "\n",
        "print(nums)\n",
        "print([x * 10 for x in nums])\n",
        "\n",
        "name = 'soumya'\n",
        "\n",
        "_name = [char.upper() for char in name]\n",
        "print(_name)\n",
        "\n",
        "friends = [\"sriju\", \"tani\", \"puja\"]\n",
        "\n",
        "print([friend[0].upper() for friend in friends])\n",
        "# print(my_friend)\n",
        "\n",
        "numbers = range(1, 11)\n",
        "\n",
        "evens = [x for x in numbers if x % 2 == 0]\n",
        "odds  = [x for x in numbers if x % 2 == 1]\n",
        "print(evens)\n",
        "print(odds)\n",
        "\n",
        "special = [x * 2 if x % 2 == 0 else x / 2 for x in numbers]\n",
        "print(special)"
      ],
      "execution_count": 77,
      "outputs": [
        {
          "output_type": "stream",
          "text": [
            "[10, 20, 30, 40]\n",
            "[100, 200, 300, 400]\n",
            "['S', 'O', 'U', 'M', 'Y', 'A']\n",
            "['S', 'T', 'P']\n",
            "[2, 4, 6, 8, 10]\n",
            "[1, 3, 5, 7, 9]\n",
            "[0.5, 4, 1.5, 8, 2.5, 12, 3.5, 16, 4.5, 20]\n"
          ],
          "name": "stdout"
        }
      ]
    },
    {
      "cell_type": "code",
      "metadata": {
        "colab": {
          "base_uri": "https://localhost:8080/"
        },
        "id": "tHFhm58yk6Qw",
        "outputId": "95a7261e-5713-439b-df64-38625ce76ec5"
      },
      "source": [
        "maze = [\n",
        "    [1, 2, 3],\n",
        "    [4, 5, 6],\n",
        "    [7, 8, 9]\n",
        "]\n",
        "\n",
        "for row in maze:\n",
        "    for val in row:\n",
        "        print(val, end=' ')\n",
        "    print()\n",
        "print(maze[2][2])\n",
        "print()\n",
        "print()\n",
        "[[print(val) for val in row ] for row in maze]"
      ],
      "execution_count": 78,
      "outputs": [
        {
          "output_type": "stream",
          "text": [
            "1 2 3 \n",
            "4 5 6 \n",
            "7 8 9 \n",
            "9\n",
            "\n",
            "\n",
            "1\n",
            "2\n",
            "3\n",
            "4\n",
            "5\n",
            "6\n",
            "7\n",
            "8\n",
            "9\n"
          ],
          "name": "stdout"
        },
        {
          "output_type": "execute_result",
          "data": {
            "text/plain": [
              "[[None, None, None], [None, None, None], [None, None, None]]"
            ]
          },
          "metadata": {
            "tags": []
          },
          "execution_count": 78
        }
      ]
    },
    {
      "cell_type": "code",
      "metadata": {
        "colab": {
          "base_uri": "https://localhost:8080/"
        },
        "id": "_ACCXnYAmC35",
        "outputId": "092c115d-0174-4764-ec38-5c57b9e2c2a8"
      },
      "source": [
        "person = {\n",
        "    'first_name': \"soumya\",\n",
        "    'last_name': \"ranjan\",\n",
        "    'age': 20,\n",
        "    'sex': \"Male\",\n",
        "    'married': False\n",
        "}\n",
        "\n",
        "print(person['first_name'])\n",
        "print(person['sex'])\n",
        "\n",
        "for key in person.keys():\n",
        "    print(key)\n",
        "\n",
        "for value in person.values():\n",
        "    print(value)\n",
        "\n",
        "for key, value in person.items():\n",
        "    print(f\"{key} : {value}\")\n",
        "\n",
        "if 'sex' in person.values():\n",
        "    print(\"Yes, it have!\")"
      ],
      "execution_count": 81,
      "outputs": [
        {
          "output_type": "stream",
          "text": [
            "soumya\n",
            "Male\n",
            "first_name\n",
            "last_name\n",
            "age\n",
            "sex\n",
            "married\n",
            "soumya\n",
            "ranjan\n",
            "20\n",
            "Male\n",
            "False\n",
            "first_name : soumya\n",
            "last_name : ranjan\n",
            "age : 20\n",
            "sex : Male\n",
            "married : False\n"
          ],
          "name": "stdout"
        }
      ]
    },
    {
      "cell_type": "code",
      "metadata": {
        "colab": {
          "base_uri": "https://localhost:8080/"
        },
        "id": "XVOZKVkqnAvO",
        "outputId": "91b36f0e-5d9f-4c67-a4b5-febfa6bcb330"
      },
      "source": [
        "playlist = {\n",
        "    'title': \"music list\",\n",
        "    'author': \"Humayun\",\n",
        "    'songs': [\n",
        "        {\n",
        "            'song_title': \"Song One\",\n",
        "            'artist': ['Artist 1', 'Artist 2'],\n",
        "            'duration': 4.31,\n",
        "        },\n",
        "        {\n",
        "            'song_title': \"Song Two\",\n",
        "            'artist': ['Artist 1'],\n",
        "            'duration': 2.53,\n",
        "        },\n",
        "        {\n",
        "            'song_title': \"Song Three\",\n",
        "            'artist': ['Artist 1', 'Artist 2', 'Artist 3'],\n",
        "            'duration': 3.43,\n",
        "        }\n",
        "    ]\n",
        "}\n",
        "\n",
        "total_duration = 0.0\n",
        "for song in playlist['songs']:\n",
        "    total_duration += song['duration']\n",
        "    print(song['song_title'])\n",
        "print(total_duration)"
      ],
      "execution_count": 83,
      "outputs": [
        {
          "output_type": "stream",
          "text": [
            "Song One\n",
            "Song Two\n",
            "Song Three\n",
            "10.27\n"
          ],
          "name": "stdout"
        }
      ]
    },
    {
      "cell_type": "code",
      "metadata": {
        "colab": {
          "base_uri": "https://localhost:8080/"
        },
        "id": "bEKFbSpsn0iK",
        "outputId": "be27908f-63f3-4e8d-d978-84083cda1a34"
      },
      "source": [
        "nums = {\n",
        "    'a': 1,\n",
        "    'b': 2,\n",
        "    'c': 3\n",
        "}\n",
        "sq_nums = {key: value **3 for key, value in nums.items()}\n",
        "print(sq_nums)\n",
        "\n",
        "sq_numbers = {num: num**4 for num in [1, 2, 3, 4, 5]}\n",
        "print(sq_numbers)\n",
        "\n",
        "str1 = 'ABC'\n",
        "str2 = '123'\n",
        "combo = {str1[i]:str2[i] for i in range(0, len(str1))}\n",
        "print(combo)\n",
        "\n",
        "num_list = [10, 20, 30, 40, 50, 60]\n",
        "parity = {num:(\"even\" if num % 2 == 0 else \"odd\") for num in num_list}\n",
        "print(parity)"
      ],
      "execution_count": 87,
      "outputs": [
        {
          "output_type": "stream",
          "text": [
            "{'a': 1, 'b': 8, 'c': 27}\n",
            "{1: 1, 2: 16, 3: 81, 4: 256, 5: 625}\n",
            "{'A': '1', 'B': '2', 'C': '3'}\n",
            "{1: 'odd', 2: 'even', 3: 'odd', 4: 'even', 5: 'odd', 6: 'even'}\n"
          ],
          "name": "stdout"
        }
      ]
    },
    {
      "cell_type": "code",
      "metadata": {
        "colab": {
          "base_uri": "https://localhost:8080/"
        },
        "id": "AtLNiAaOoS9y",
        "outputId": "3d4db7ad-9c71-4d4e-9a76-e3199574cf23"
      },
      "source": [
        "def wish_birthday():\n",
        "    print(\"Happy Birth Day\")\n",
        "\n",
        "\n",
        "wish_birthday()\n",
        "\n",
        "\n",
        "def square_number(number):\n",
        "    return number * number\n",
        "\n",
        "\n",
        "val = square_number(5)\n",
        "print(val)"
      ],
      "execution_count": 89,
      "outputs": [
        {
          "output_type": "stream",
          "text": [
            "Happy Birth Day\n",
            "25\n"
          ],
          "name": "stdout"
        }
      ]
    },
    {
      "cell_type": "code",
      "metadata": {
        "colab": {
          "base_uri": "https://localhost:8080/"
        },
        "id": "ncG0EHhopqIL",
        "outputId": "8bc9aa82-294b-410c-c1fe-edfd7eae2c0d"
      },
      "source": [
        "from random import random\n",
        "\n",
        "\n",
        "def flip_coin():\n",
        "    rand = random()\n",
        "    if rand >= 0.5:\n",
        "        return \"Heads\"\n",
        "    else:\n",
        "        return \"Tails\"\n",
        "\n",
        "\n",
        "# function ovverriding\n",
        "def flip_coin():\n",
        "    if random() >= 0.5:\n",
        "        return \"HEADS\"\n",
        "    else:\n",
        "        return \"TAILS\"\n",
        "\n",
        "\n",
        "print(flip_coin())\n",
        "print(flip_coin())\n",
        "print(flip_coin())\n",
        "print(flip_coin())"
      ],
      "execution_count": 104,
      "outputs": [
        {
          "output_type": "stream",
          "text": [
            "HEADS\n",
            "HEADS\n",
            "HEADS\n",
            "TAILS\n"
          ],
          "name": "stdout"
        }
      ]
    },
    {
      "cell_type": "code",
      "metadata": {
        "colab": {
          "base_uri": "https://localhost:8080/"
        },
        "id": "Utm6rfI4q0R8",
        "outputId": "ab09293f-285e-4181-cc0e-9d8836487e8f"
      },
      "source": [
        "def add(a, b):\n",
        "    return a * b\n",
        "\n",
        "print(add(7, 3))\n",
        "\n",
        "x = 7\n",
        "y = 3\n",
        "z = x * y\n",
        "\n",
        "\n",
        "def full_name(first_name, last_name,):\n",
        "    print(f\"Your Name is {first_name} {last_name}\")\n",
        "    print(f\"your age is { z }\")\n",
        "full_name(\"soumya\", \"ranjan\")"
      ],
      "execution_count": 100,
      "outputs": [
        {
          "output_type": "stream",
          "text": [
            "21\n",
            "Your Name is soumya ranjan\n",
            "your age is 21\n"
          ],
          "name": "stdout"
        }
      ]
    },
    {
      "cell_type": "code",
      "metadata": {
        "colab": {
          "base_uri": "https://localhost:8080/"
        },
        "id": "m2QtJeN5rss5",
        "outputId": "de5e457d-15bb-4fbc-d6ea-699a19d653e9"
      },
      "source": [
        "def my_function(country = \"india\"):\n",
        "  print(\"I am from \" + country)\n",
        "\n",
        "my_function(\"Sweden\")\n",
        "my_function(\"norway\")\n",
        "my_function()\n",
        "my_function(\"Brazil\")"
      ],
      "execution_count": 103,
      "outputs": [
        {
          "output_type": "stream",
          "text": [
            "I am from Sweden\n",
            "I am from norway\n",
            "I am from india\n",
            "I am from Brazil\n"
          ],
          "name": "stdout"
        }
      ]
    },
    {
      "cell_type": "code",
      "metadata": {
        "id": "f38VSeExuSO1"
      },
      "source": [
        ""
      ],
      "execution_count": 101,
      "outputs": []
    }
  ]
}