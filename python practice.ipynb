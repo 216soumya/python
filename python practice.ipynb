{
 "cells": [
  {
   "cell_type": "code",
   "execution_count": 42,
   "metadata": {},
   "outputs": [],
   "source": [
    "class phone:\n",
    "    def make_call(self):\n",
    "        print(\"i am making a call\")\n",
    "    def play_game(self):\n",
    "        print(\"i am playing a game\")"
   ]
  },
  {
   "cell_type": "code",
   "execution_count": 43,
   "metadata": {},
   "outputs": [],
   "source": [
    "p1 = phone()"
   ]
  },
  {
   "cell_type": "code",
   "execution_count": 44,
   "metadata": {},
   "outputs": [
    {
     "name": "stdout",
     "output_type": "stream",
     "text": [
      "i am making a call\n"
     ]
    }
   ],
   "source": [
    "p1.make_call()"
   ]
  },
  {
   "cell_type": "code",
   "execution_count": 45,
   "metadata": {},
   "outputs": [
    {
     "name": "stdout",
     "output_type": "stream",
     "text": [
      "i am playing a game\n"
     ]
    }
   ],
   "source": [
    "p1.play_game()"
   ]
  },
  {
   "cell_type": "code",
   "execution_count": 46,
   "metadata": {},
   "outputs": [],
   "source": [
    "class phone:\n",
    "    def set_color(self,color):\n",
    "        self.color=color\n",
    "    def set_cost(self,cost):\n",
    "        self.cost=cost\n",
    "    def show_color(self):\n",
    "        return self.color\n",
    "    def show_cost(self):\n",
    "        return self.cost\n",
    "    def make_call(self):\n",
    "        print(\"make a call\")\n",
    "    def play_game(self):\n",
    "        print(\"play a game\")\n",
    "        \n",
    "        "
   ]
  },
  {
   "cell_type": "code",
   "execution_count": 47,
   "metadata": {},
   "outputs": [],
   "source": [
    "p2 = phone()"
   ]
  },
  {
   "cell_type": "code",
   "execution_count": 48,
   "metadata": {},
   "outputs": [],
   "source": [
    "p2.set_color(\"blue\")"
   ]
  },
  {
   "cell_type": "code",
   "execution_count": 49,
   "metadata": {},
   "outputs": [],
   "source": [
    "p2.set_cost(10000)"
   ]
  },
  {
   "cell_type": "code",
   "execution_count": 50,
   "metadata": {},
   "outputs": [
    {
     "data": {
      "text/plain": [
       "'blue'"
      ]
     },
     "execution_count": 50,
     "metadata": {},
     "output_type": "execute_result"
    }
   ],
   "source": [
    "p2.show_color()"
   ]
  },
  {
   "cell_type": "code",
   "execution_count": 51,
   "metadata": {},
   "outputs": [
    {
     "data": {
      "text/plain": [
       "10000"
      ]
     },
     "execution_count": 51,
     "metadata": {},
     "output_type": "execute_result"
    }
   ],
   "source": [
    "p2.show_cost()"
   ]
  },
  {
   "cell_type": "code",
   "execution_count": 52,
   "metadata": {},
   "outputs": [
    {
     "name": "stdout",
     "output_type": "stream",
     "text": [
      "make a call\n"
     ]
    }
   ],
   "source": [
    "p2.make_call()"
   ]
  },
  {
   "cell_type": "code",
   "execution_count": 53,
   "metadata": {},
   "outputs": [
    {
     "name": "stdout",
     "output_type": "stream",
     "text": [
      "play a game\n"
     ]
    }
   ],
   "source": [
    "p2.play_game()"
   ]
  },
  {
   "cell_type": "code",
   "execution_count": 54,
   "metadata": {},
   "outputs": [],
   "source": [
    "#creating class with constructor"
   ]
  },
  {
   "cell_type": "code",
   "execution_count": 55,
   "metadata": {},
   "outputs": [],
   "source": [
    "class employee:\n",
    "    def __init__(self,name,age,salary,gender):\n",
    "        self.name=name\n",
    "        self.age=age\n",
    "        self.salary=salary\n",
    "        self.gender=gender\n",
    "    def show_employee_details(self):\n",
    "        print(\"name of the employee is\",self.name)\n",
    "        print(\"age of the employee is\",self.age)\n",
    "        print(\"salary of the employee is\",self.age)\n",
    "        print(\"gender of the employee is\",self.gender)    "
   ]
  },
  {
   "cell_type": "code",
   "execution_count": 56,
   "metadata": {},
   "outputs": [],
   "source": [
    "e1 = employee('ram','30','50000','male')"
   ]
  },
  {
   "cell_type": "code",
   "execution_count": 57,
   "metadata": {},
   "outputs": [
    {
     "name": "stdout",
     "output_type": "stream",
     "text": [
      "name of the employee is ram\n",
      "age of the employee is 30\n",
      "salary of the employee is 30\n",
      "gender of the employee is male\n"
     ]
    }
   ],
   "source": [
    "e1.show_employee_details()"
   ]
  },
  {
   "cell_type": "code",
   "execution_count": 58,
   "metadata": {},
   "outputs": [],
   "source": [
    "#inheritance in python"
   ]
  },
  {
   "cell_type": "code",
   "execution_count": 59,
   "metadata": {},
   "outputs": [],
   "source": [
    "class vehicle:\n",
    "    def __init__(self,milage,cost):\n",
    "        self.milage=milage\n",
    "        self.cost=cost\n",
    "    def show_vehicle_details(self):\n",
    "        print(\"milage of the vehicle is\",self.milage)\n",
    "        print(\"cost of the vehicle is\",self.cost)\n",
    "        print(\"this is a vehicle\")"
   ]
  },
  {
   "cell_type": "code",
   "execution_count": 60,
   "metadata": {},
   "outputs": [],
   "source": [
    "v1 = vehicle(50,60000)"
   ]
  },
  {
   "cell_type": "code",
   "execution_count": 61,
   "metadata": {},
   "outputs": [
    {
     "name": "stdout",
     "output_type": "stream",
     "text": [
      "milage of the vehicle is 50\n",
      "cost of the vehicle is 60000\n",
      "this is a vehicle\n"
     ]
    }
   ],
   "source": [
    "v1.show_vehicle_details()"
   ]
  },
  {
   "cell_type": "code",
   "execution_count": 62,
   "metadata": {},
   "outputs": [],
   "source": [
    "class car(vehicle):\n",
    "    def show_car_details(self):\n",
    "        print(\" i am a car \")"
   ]
  },
  {
   "cell_type": "code",
   "execution_count": 63,
   "metadata": {},
   "outputs": [],
   "source": [
    "c1 = car(250,54000)"
   ]
  },
  {
   "cell_type": "code",
   "execution_count": 64,
   "metadata": {},
   "outputs": [
    {
     "name": "stdout",
     "output_type": "stream",
     "text": [
      "milage of the vehicle is 250\n",
      "cost of the vehicle is 54000\n",
      "this is a vehicle\n"
     ]
    }
   ],
   "source": [
    "c1.show_vehicle_details()"
   ]
  },
  {
   "cell_type": "code",
   "execution_count": 65,
   "metadata": {},
   "outputs": [
    {
     "name": "stdout",
     "output_type": "stream",
     "text": [
      " i am a car \n"
     ]
    }
   ],
   "source": [
    "c1.show_car_details()"
   ]
  },
  {
   "cell_type": "code",
   "execution_count": 66,
   "metadata": {},
   "outputs": [],
   "source": [
    "#over-riding init method"
   ]
  },
  {
   "cell_type": "code",
   "execution_count": 71,
   "metadata": {},
   "outputs": [],
   "source": [
    "class car(vehicle):\n",
    "    def __init__(self,milage,cost,tyres,hp):\n",
    "        super().__init__(milage,cost)\n",
    "        self.tyres=tyres\n",
    "        self.hp=hp\n",
    "    def show_car_details(self):\n",
    "        print(\"numbers of tyres\",self.tyres)\n",
    "        print(\"horse power of car is\",self.hp)\n",
    "        print(\"this is a car\")"
   ]
  },
  {
   "cell_type": "code",
   "execution_count": 72,
   "metadata": {},
   "outputs": [],
   "source": [
    "c1 = car(50,60000,8,999)"
   ]
  },
  {
   "cell_type": "code",
   "execution_count": 73,
   "metadata": {},
   "outputs": [
    {
     "name": "stdout",
     "output_type": "stream",
     "text": [
      "numbers of tyres 8\n",
      "horse power of car is 999\n",
      "this is a car\n"
     ]
    }
   ],
   "source": [
    "c1.show_car_details()"
   ]
  },
  {
   "cell_type": "code",
   "execution_count": 74,
   "metadata": {},
   "outputs": [
    {
     "name": "stdout",
     "output_type": "stream",
     "text": [
      "milage of the vehicle is 50\n",
      "cost of the vehicle is 60000\n",
      "this is a vehicle\n"
     ]
    }
   ],
   "source": [
    "c1.show_vehicle_details()"
   ]
  },
  {
   "cell_type": "code",
   "execution_count": 75,
   "metadata": {},
   "outputs": [],
   "source": [
    "#multiple inheritance"
   ]
  },
  {
   "cell_type": "code",
   "execution_count": 80,
   "metadata": {},
   "outputs": [],
   "source": [
    "class parent1:\n",
    "    def assign_string_one(self,str1):\n",
    "        self.str1=str1\n",
    "    def show_string_one(self):\n",
    "        return self.str1"
   ]
  },
  {
   "cell_type": "code",
   "execution_count": 81,
   "metadata": {},
   "outputs": [],
   "source": [
    "class parent2:\n",
    "    def assign_string_two(self,str2):\n",
    "        self.str2=str2\n",
    "    def show_string_two(self):\n",
    "        return self.str2"
   ]
  },
  {
   "cell_type": "code",
   "execution_count": 84,
   "metadata": {},
   "outputs": [],
   "source": [
    "class child(parent1,parent2):\n",
    "    def assign_string_three(self,str3):\n",
    "        self.str3=str3\n",
    "    def show_string_three(self):\n",
    "        return self.str3"
   ]
  },
  {
   "cell_type": "code",
   "execution_count": 85,
   "metadata": {},
   "outputs": [],
   "source": [
    "my_child = child()"
   ]
  },
  {
   "cell_type": "code",
   "execution_count": 86,
   "metadata": {},
   "outputs": [],
   "source": [
    "my_child.assign_string_one(\"i am string of parent 1\")"
   ]
  },
  {
   "cell_type": "code",
   "execution_count": 87,
   "metadata": {},
   "outputs": [],
   "source": [
    "my_child.assign_string_two(\"i  am a string of parent 2\")"
   ]
  },
  {
   "cell_type": "code",
   "execution_count": 88,
   "metadata": {},
   "outputs": [],
   "source": [
    "my_child.assign_string_three(\"i am a string of child \")"
   ]
  },
  {
   "cell_type": "code",
   "execution_count": 89,
   "metadata": {},
   "outputs": [
    {
     "data": {
      "text/plain": [
       "'i am string of parent 1'"
      ]
     },
     "execution_count": 89,
     "metadata": {},
     "output_type": "execute_result"
    }
   ],
   "source": [
    "my_child.show_string_one()"
   ]
  },
  {
   "cell_type": "code",
   "execution_count": 90,
   "metadata": {},
   "outputs": [
    {
     "data": {
      "text/plain": [
       "'i  am a string of parent 2'"
      ]
     },
     "execution_count": 90,
     "metadata": {},
     "output_type": "execute_result"
    }
   ],
   "source": [
    "my_child.show_string_two()"
   ]
  },
  {
   "cell_type": "code",
   "execution_count": 91,
   "metadata": {},
   "outputs": [
    {
     "data": {
      "text/plain": [
       "'i am a string of child '"
      ]
     },
     "execution_count": 91,
     "metadata": {},
     "output_type": "execute_result"
    }
   ],
   "source": [
    "my_child.show_string_three()"
   ]
  },
  {
   "cell_type": "code",
   "execution_count": 92,
   "metadata": {},
   "outputs": [],
   "source": [
    "#multilevel inheritance"
   ]
  },
  {
   "cell_type": "code",
   "execution_count": 94,
   "metadata": {},
   "outputs": [],
   "source": [
    "class parent:\n",
    "    def get_name(self,name):\n",
    "        self.name=name\n",
    "    def show_name(self):\n",
    "        return self.name"
   ]
  },
  {
   "cell_type": "code",
   "execution_count": 97,
   "metadata": {},
   "outputs": [],
   "source": [
    "class child(parent):\n",
    "    def get_age(self,age):\n",
    "        self.age=age\n",
    "    def show_age(self):\n",
    "        return self.age"
   ]
  },
  {
   "cell_type": "code",
   "execution_count": 98,
   "metadata": {},
   "outputs": [],
   "source": [
    "class grandchild(child):\n",
    "    def get_gender(self,gender):\n",
    "        self.gender=gender\n",
    "    def show_gender(self):\n",
    "        return self.gender"
   ]
  },
  {
   "cell_type": "code",
   "execution_count": 99,
   "metadata": {},
   "outputs": [],
   "source": [
    "gc = grandchild()"
   ]
  },
  {
   "cell_type": "code",
   "execution_count": 100,
   "metadata": {},
   "outputs": [],
   "source": [
    "gc.get_name(\"soumya\")"
   ]
  },
  {
   "cell_type": "code",
   "execution_count": 101,
   "metadata": {},
   "outputs": [],
   "source": [
    "gc.get_age(21)"
   ]
  },
  {
   "cell_type": "code",
   "execution_count": 102,
   "metadata": {},
   "outputs": [],
   "source": [
    "gc.get_gender(\"male\")"
   ]
  },
  {
   "cell_type": "code",
   "execution_count": 103,
   "metadata": {},
   "outputs": [
    {
     "data": {
      "text/plain": [
       "'soumya'"
      ]
     },
     "execution_count": 103,
     "metadata": {},
     "output_type": "execute_result"
    }
   ],
   "source": [
    "gc.show_name()"
   ]
  },
  {
   "cell_type": "code",
   "execution_count": 104,
   "metadata": {},
   "outputs": [
    {
     "data": {
      "text/plain": [
       "21"
      ]
     },
     "execution_count": 104,
     "metadata": {},
     "output_type": "execute_result"
    }
   ],
   "source": [
    "gc.show_age()"
   ]
  },
  {
   "cell_type": "code",
   "execution_count": 105,
   "metadata": {},
   "outputs": [
    {
     "data": {
      "text/plain": [
       "'male'"
      ]
     },
     "execution_count": 105,
     "metadata": {},
     "output_type": "execute_result"
    }
   ],
   "source": [
    "gc.show_gender()"
   ]
  },
  {
   "cell_type": "code",
   "execution_count": null,
   "metadata": {},
   "outputs": [],
   "source": []
  }
 ],
 "metadata": {
  "kernelspec": {
   "display_name": "Python 3",
   "language": "python",
   "name": "python3"
  },
  "language_info": {
   "codemirror_mode": {
    "name": "ipython",
    "version": 3
   },
   "file_extension": ".py",
   "mimetype": "text/x-python",
   "name": "python",
   "nbconvert_exporter": "python",
   "pygments_lexer": "ipython3",
   "version": "3.8.5"
  }
 },
 "nbformat": 4,
 "nbformat_minor": 4
}
