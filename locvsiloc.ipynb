{
  "nbformat": 4,
  "nbformat_minor": 0,
  "metadata": {
    "colab": {
      "name": "locvsiloc.ipynb",
      "provenance": [],
      "authorship_tag": "ABX9TyOudt8MU+Nzk6kdh9LMuiQx",
      "include_colab_link": true
    },
    "kernelspec": {
      "name": "python3",
      "display_name": "Python 3"
    },
    "language_info": {
      "name": "python"
    }
  },
  "cells": [
    {
      "cell_type": "markdown",
      "metadata": {
        "id": "view-in-github",
        "colab_type": "text"
      },
      "source": [
        "<a href=\"https://colab.research.google.com/github/216soumya/python/blob/main/locvsiloc.ipynb\" target=\"_parent\"><img src=\"https://colab.research.google.com/assets/colab-badge.svg\" alt=\"Open In Colab\"/></a>"
      ]
    },
    {
      "cell_type": "code",
      "metadata": {
        "colab": {
          "base_uri": "https://localhost:8080/",
          "height": 252
        },
        "id": "HVjfDSluWoNP",
        "outputId": "2131c4d2-c71d-45f1-cc9a-b402633e4285"
      },
      "source": [
        "# importing pandas and numpy\n",
        "import pandas as pd\n",
        "import numpy as np\n",
        "\n",
        "# crete a sample dataframe\n",
        "data = pd.DataFrame({\n",
        "    'age' :     [ 10, 22, 13, 21, 12, 11, 17],\n",
        "    'section' : [ 'A', 'B', 'C', 'B', 'B', 'A', 'A'],\n",
        "    'city' :    [ 'Gurgaon', 'Delhi', 'Mumbai', 'Delhi', 'Mumbai', 'Delhi', 'Mumbai'],\n",
        "    'gender' :  [ 'M', 'F', 'F', 'M', 'M', 'M', 'F'],\n",
        "    'favourite_color' : [ 'red', np.NAN, 'yellow', np.NAN, 'black', 'green', 'red']\n",
        "})\n",
        "\n",
        "# view the data\n",
        "data"
      ],
      "execution_count": 7,
      "outputs": [
        {
          "output_type": "execute_result",
          "data": {
            "text/html": [
              "<div>\n",
              "<style scoped>\n",
              "    .dataframe tbody tr th:only-of-type {\n",
              "        vertical-align: middle;\n",
              "    }\n",
              "\n",
              "    .dataframe tbody tr th {\n",
              "        vertical-align: top;\n",
              "    }\n",
              "\n",
              "    .dataframe thead th {\n",
              "        text-align: right;\n",
              "    }\n",
              "</style>\n",
              "<table border=\"1\" class=\"dataframe\">\n",
              "  <thead>\n",
              "    <tr style=\"text-align: right;\">\n",
              "      <th></th>\n",
              "      <th>age</th>\n",
              "      <th>section</th>\n",
              "      <th>city</th>\n",
              "      <th>gender</th>\n",
              "      <th>favourite_color</th>\n",
              "    </tr>\n",
              "  </thead>\n",
              "  <tbody>\n",
              "    <tr>\n",
              "      <th>0</th>\n",
              "      <td>10</td>\n",
              "      <td>A</td>\n",
              "      <td>Gurgaon</td>\n",
              "      <td>M</td>\n",
              "      <td>red</td>\n",
              "    </tr>\n",
              "    <tr>\n",
              "      <th>1</th>\n",
              "      <td>22</td>\n",
              "      <td>B</td>\n",
              "      <td>Delhi</td>\n",
              "      <td>F</td>\n",
              "      <td>NaN</td>\n",
              "    </tr>\n",
              "    <tr>\n",
              "      <th>2</th>\n",
              "      <td>13</td>\n",
              "      <td>C</td>\n",
              "      <td>Mumbai</td>\n",
              "      <td>F</td>\n",
              "      <td>yellow</td>\n",
              "    </tr>\n",
              "    <tr>\n",
              "      <th>3</th>\n",
              "      <td>21</td>\n",
              "      <td>B</td>\n",
              "      <td>Delhi</td>\n",
              "      <td>M</td>\n",
              "      <td>NaN</td>\n",
              "    </tr>\n",
              "    <tr>\n",
              "      <th>4</th>\n",
              "      <td>12</td>\n",
              "      <td>B</td>\n",
              "      <td>Mumbai</td>\n",
              "      <td>M</td>\n",
              "      <td>black</td>\n",
              "    </tr>\n",
              "    <tr>\n",
              "      <th>5</th>\n",
              "      <td>11</td>\n",
              "      <td>A</td>\n",
              "      <td>Delhi</td>\n",
              "      <td>M</td>\n",
              "      <td>green</td>\n",
              "    </tr>\n",
              "    <tr>\n",
              "      <th>6</th>\n",
              "      <td>17</td>\n",
              "      <td>A</td>\n",
              "      <td>Mumbai</td>\n",
              "      <td>F</td>\n",
              "      <td>red</td>\n",
              "    </tr>\n",
              "  </tbody>\n",
              "</table>\n",
              "</div>"
            ],
            "text/plain": [
              "   age section     city gender favourite_color\n",
              "0   10       A  Gurgaon      M             red\n",
              "1   22       B    Delhi      F             NaN\n",
              "2   13       C   Mumbai      F          yellow\n",
              "3   21       B    Delhi      M             NaN\n",
              "4   12       B   Mumbai      M           black\n",
              "5   11       A    Delhi      M           green\n",
              "6   17       A   Mumbai      F             red"
            ]
          },
          "metadata": {
            "tags": []
          },
          "execution_count": 7
        }
      ]
    },
    {
      "cell_type": "code",
      "metadata": {
        "colab": {
          "base_uri": "https://localhost:8080/",
          "height": 135
        },
        "id": "WX8HMSltXdbS",
        "outputId": "5082b4c0-077c-4052-c548-53bdc8837803"
      },
      "source": [
        "data.loc[2:4,['age','city']]"
      ],
      "execution_count": 8,
      "outputs": [
        {
          "output_type": "execute_result",
          "data": {
            "text/html": [
              "<div>\n",
              "<style scoped>\n",
              "    .dataframe tbody tr th:only-of-type {\n",
              "        vertical-align: middle;\n",
              "    }\n",
              "\n",
              "    .dataframe tbody tr th {\n",
              "        vertical-align: top;\n",
              "    }\n",
              "\n",
              "    .dataframe thead th {\n",
              "        text-align: right;\n",
              "    }\n",
              "</style>\n",
              "<table border=\"1\" class=\"dataframe\">\n",
              "  <thead>\n",
              "    <tr style=\"text-align: right;\">\n",
              "      <th></th>\n",
              "      <th>age</th>\n",
              "      <th>city</th>\n",
              "    </tr>\n",
              "  </thead>\n",
              "  <tbody>\n",
              "    <tr>\n",
              "      <th>2</th>\n",
              "      <td>13</td>\n",
              "      <td>Mumbai</td>\n",
              "    </tr>\n",
              "    <tr>\n",
              "      <th>3</th>\n",
              "      <td>21</td>\n",
              "      <td>Delhi</td>\n",
              "    </tr>\n",
              "    <tr>\n",
              "      <th>4</th>\n",
              "      <td>12</td>\n",
              "      <td>Mumbai</td>\n",
              "    </tr>\n",
              "  </tbody>\n",
              "</table>\n",
              "</div>"
            ],
            "text/plain": [
              "   age    city\n",
              "2   13  Mumbai\n",
              "3   21   Delhi\n",
              "4   12  Mumbai"
            ]
          },
          "metadata": {
            "tags": []
          },
          "execution_count": 8
        }
      ]
    },
    {
      "cell_type": "code",
      "metadata": {
        "colab": {
          "base_uri": "https://localhost:8080/",
          "height": 106
        },
        "id": "vo2no_6qXnqq",
        "outputId": "5634c7c6-0d10-44c0-c51f-38631f6a814a"
      },
      "source": [
        "data.iloc[2:4,[0,2]]"
      ],
      "execution_count": 9,
      "outputs": [
        {
          "output_type": "execute_result",
          "data": {
            "text/html": [
              "<div>\n",
              "<style scoped>\n",
              "    .dataframe tbody tr th:only-of-type {\n",
              "        vertical-align: middle;\n",
              "    }\n",
              "\n",
              "    .dataframe tbody tr th {\n",
              "        vertical-align: top;\n",
              "    }\n",
              "\n",
              "    .dataframe thead th {\n",
              "        text-align: right;\n",
              "    }\n",
              "</style>\n",
              "<table border=\"1\" class=\"dataframe\">\n",
              "  <thead>\n",
              "    <tr style=\"text-align: right;\">\n",
              "      <th></th>\n",
              "      <th>age</th>\n",
              "      <th>city</th>\n",
              "    </tr>\n",
              "  </thead>\n",
              "  <tbody>\n",
              "    <tr>\n",
              "      <th>2</th>\n",
              "      <td>13</td>\n",
              "      <td>Mumbai</td>\n",
              "    </tr>\n",
              "    <tr>\n",
              "      <th>3</th>\n",
              "      <td>21</td>\n",
              "      <td>Delhi</td>\n",
              "    </tr>\n",
              "  </tbody>\n",
              "</table>\n",
              "</div>"
            ],
            "text/plain": [
              "   age    city\n",
              "2   13  Mumbai\n",
              "3   21   Delhi"
            ]
          },
          "metadata": {
            "tags": []
          },
          "execution_count": 9
        }
      ]
    },
    {
      "cell_type": "code",
      "metadata": {
        "colab": {
          "base_uri": "https://localhost:8080/",
          "height": 135
        },
        "id": "WdbJFoNeYp_0",
        "outputId": "2a2c4b59-96af-4ce7-c214-79a8502a781f"
      },
      "source": [
        "data.loc[data.age >= 15]"
      ],
      "execution_count": 10,
      "outputs": [
        {
          "output_type": "execute_result",
          "data": {
            "text/html": [
              "<div>\n",
              "<style scoped>\n",
              "    .dataframe tbody tr th:only-of-type {\n",
              "        vertical-align: middle;\n",
              "    }\n",
              "\n",
              "    .dataframe tbody tr th {\n",
              "        vertical-align: top;\n",
              "    }\n",
              "\n",
              "    .dataframe thead th {\n",
              "        text-align: right;\n",
              "    }\n",
              "</style>\n",
              "<table border=\"1\" class=\"dataframe\">\n",
              "  <thead>\n",
              "    <tr style=\"text-align: right;\">\n",
              "      <th></th>\n",
              "      <th>age</th>\n",
              "      <th>section</th>\n",
              "      <th>city</th>\n",
              "      <th>gender</th>\n",
              "      <th>favourite_color</th>\n",
              "    </tr>\n",
              "  </thead>\n",
              "  <tbody>\n",
              "    <tr>\n",
              "      <th>1</th>\n",
              "      <td>22</td>\n",
              "      <td>B</td>\n",
              "      <td>Delhi</td>\n",
              "      <td>F</td>\n",
              "      <td>NaN</td>\n",
              "    </tr>\n",
              "    <tr>\n",
              "      <th>3</th>\n",
              "      <td>21</td>\n",
              "      <td>B</td>\n",
              "      <td>Delhi</td>\n",
              "      <td>M</td>\n",
              "      <td>NaN</td>\n",
              "    </tr>\n",
              "    <tr>\n",
              "      <th>6</th>\n",
              "      <td>17</td>\n",
              "      <td>A</td>\n",
              "      <td>Mumbai</td>\n",
              "      <td>F</td>\n",
              "      <td>red</td>\n",
              "    </tr>\n",
              "  </tbody>\n",
              "</table>\n",
              "</div>"
            ],
            "text/plain": [
              "   age section    city gender favourite_color\n",
              "1   22       B   Delhi      F             NaN\n",
              "3   21       B   Delhi      M             NaN\n",
              "6   17       A  Mumbai      F             red"
            ]
          },
          "metadata": {
            "tags": []
          },
          "execution_count": 10
        }
      ]
    },
    {
      "cell_type": "code",
      "metadata": {
        "colab": {
          "base_uri": "https://localhost:8080/",
          "height": 106
        },
        "id": "ZtbsEuv0Yu2e",
        "outputId": "98b1eb50-013a-4d3e-d2d4-8b4eb65043a1"
      },
      "source": [
        "# select with multiple conditions\n",
        "data.loc[(data.age >= 12) & (data.gender == 'M')]"
      ],
      "execution_count": 11,
      "outputs": [
        {
          "output_type": "execute_result",
          "data": {
            "text/html": [
              "<div>\n",
              "<style scoped>\n",
              "    .dataframe tbody tr th:only-of-type {\n",
              "        vertical-align: middle;\n",
              "    }\n",
              "\n",
              "    .dataframe tbody tr th {\n",
              "        vertical-align: top;\n",
              "    }\n",
              "\n",
              "    .dataframe thead th {\n",
              "        text-align: right;\n",
              "    }\n",
              "</style>\n",
              "<table border=\"1\" class=\"dataframe\">\n",
              "  <thead>\n",
              "    <tr style=\"text-align: right;\">\n",
              "      <th></th>\n",
              "      <th>age</th>\n",
              "      <th>section</th>\n",
              "      <th>city</th>\n",
              "      <th>gender</th>\n",
              "      <th>favourite_color</th>\n",
              "    </tr>\n",
              "  </thead>\n",
              "  <tbody>\n",
              "    <tr>\n",
              "      <th>3</th>\n",
              "      <td>21</td>\n",
              "      <td>B</td>\n",
              "      <td>Delhi</td>\n",
              "      <td>M</td>\n",
              "      <td>NaN</td>\n",
              "    </tr>\n",
              "    <tr>\n",
              "      <th>4</th>\n",
              "      <td>12</td>\n",
              "      <td>B</td>\n",
              "      <td>Mumbai</td>\n",
              "      <td>M</td>\n",
              "      <td>black</td>\n",
              "    </tr>\n",
              "  </tbody>\n",
              "</table>\n",
              "</div>"
            ],
            "text/plain": [
              "   age section    city gender favourite_color\n",
              "3   21       B   Delhi      M             NaN\n",
              "4   12       B  Mumbai      M           black"
            ]
          },
          "metadata": {
            "tags": []
          },
          "execution_count": 11
        }
      ]
    },
    {
      "cell_type": "code",
      "metadata": {
        "colab": {
          "base_uri": "https://localhost:8080/",
          "height": 135
        },
        "id": "gBZCYI3DYywy",
        "outputId": "00493f75-399f-4d31-e861-89d70e9cf9fc"
      },
      "source": [
        "#slice\n",
        "data.loc[1:3]"
      ],
      "execution_count": 12,
      "outputs": [
        {
          "output_type": "execute_result",
          "data": {
            "text/html": [
              "<div>\n",
              "<style scoped>\n",
              "    .dataframe tbody tr th:only-of-type {\n",
              "        vertical-align: middle;\n",
              "    }\n",
              "\n",
              "    .dataframe tbody tr th {\n",
              "        vertical-align: top;\n",
              "    }\n",
              "\n",
              "    .dataframe thead th {\n",
              "        text-align: right;\n",
              "    }\n",
              "</style>\n",
              "<table border=\"1\" class=\"dataframe\">\n",
              "  <thead>\n",
              "    <tr style=\"text-align: right;\">\n",
              "      <th></th>\n",
              "      <th>age</th>\n",
              "      <th>section</th>\n",
              "      <th>city</th>\n",
              "      <th>gender</th>\n",
              "      <th>favourite_color</th>\n",
              "    </tr>\n",
              "  </thead>\n",
              "  <tbody>\n",
              "    <tr>\n",
              "      <th>1</th>\n",
              "      <td>22</td>\n",
              "      <td>B</td>\n",
              "      <td>Delhi</td>\n",
              "      <td>F</td>\n",
              "      <td>NaN</td>\n",
              "    </tr>\n",
              "    <tr>\n",
              "      <th>2</th>\n",
              "      <td>13</td>\n",
              "      <td>C</td>\n",
              "      <td>Mumbai</td>\n",
              "      <td>F</td>\n",
              "      <td>yellow</td>\n",
              "    </tr>\n",
              "    <tr>\n",
              "      <th>3</th>\n",
              "      <td>21</td>\n",
              "      <td>B</td>\n",
              "      <td>Delhi</td>\n",
              "      <td>M</td>\n",
              "      <td>NaN</td>\n",
              "    </tr>\n",
              "  </tbody>\n",
              "</table>\n",
              "</div>"
            ],
            "text/plain": [
              "   age section    city gender favourite_color\n",
              "1   22       B   Delhi      F             NaN\n",
              "2   13       C  Mumbai      F          yellow\n",
              "3   21       B   Delhi      M             NaN"
            ]
          },
          "metadata": {
            "tags": []
          },
          "execution_count": 12
        }
      ]
    },
    {
      "cell_type": "code",
      "metadata": {
        "colab": {
          "base_uri": "https://localhost:8080/",
          "height": 194
        },
        "id": "fL6VkA1iY13q",
        "outputId": "275ab770-d60b-4af6-e8b1-9871d3c4bcab"
      },
      "source": [
        "# select few columns with a condition\n",
        "data.loc[(data.age >= 12), ['city', 'gender']]"
      ],
      "execution_count": 13,
      "outputs": [
        {
          "output_type": "execute_result",
          "data": {
            "text/html": [
              "<div>\n",
              "<style scoped>\n",
              "    .dataframe tbody tr th:only-of-type {\n",
              "        vertical-align: middle;\n",
              "    }\n",
              "\n",
              "    .dataframe tbody tr th {\n",
              "        vertical-align: top;\n",
              "    }\n",
              "\n",
              "    .dataframe thead th {\n",
              "        text-align: right;\n",
              "    }\n",
              "</style>\n",
              "<table border=\"1\" class=\"dataframe\">\n",
              "  <thead>\n",
              "    <tr style=\"text-align: right;\">\n",
              "      <th></th>\n",
              "      <th>city</th>\n",
              "      <th>gender</th>\n",
              "    </tr>\n",
              "  </thead>\n",
              "  <tbody>\n",
              "    <tr>\n",
              "      <th>1</th>\n",
              "      <td>Delhi</td>\n",
              "      <td>F</td>\n",
              "    </tr>\n",
              "    <tr>\n",
              "      <th>2</th>\n",
              "      <td>Mumbai</td>\n",
              "      <td>F</td>\n",
              "    </tr>\n",
              "    <tr>\n",
              "      <th>3</th>\n",
              "      <td>Delhi</td>\n",
              "      <td>M</td>\n",
              "    </tr>\n",
              "    <tr>\n",
              "      <th>4</th>\n",
              "      <td>Mumbai</td>\n",
              "      <td>M</td>\n",
              "    </tr>\n",
              "    <tr>\n",
              "      <th>6</th>\n",
              "      <td>Mumbai</td>\n",
              "      <td>F</td>\n",
              "    </tr>\n",
              "  </tbody>\n",
              "</table>\n",
              "</div>"
            ],
            "text/plain": [
              "     city gender\n",
              "1   Delhi      F\n",
              "2  Mumbai      F\n",
              "3   Delhi      M\n",
              "4  Mumbai      M\n",
              "6  Mumbai      F"
            ]
          },
          "metadata": {
            "tags": []
          },
          "execution_count": 13
        }
      ]
    },
    {
      "cell_type": "code",
      "metadata": {
        "colab": {
          "base_uri": "https://localhost:8080/",
          "height": 252
        },
        "id": "Wya1B-3TY5G8",
        "outputId": "bc757cea-3eba-48e3-d549-5189b068e5ba"
      },
      "source": [
        "# update a column with condition\n",
        "data.loc[(data.age >= 12), ['section']] = 'M'\n",
        "data"
      ],
      "execution_count": 14,
      "outputs": [
        {
          "output_type": "execute_result",
          "data": {
            "text/html": [
              "<div>\n",
              "<style scoped>\n",
              "    .dataframe tbody tr th:only-of-type {\n",
              "        vertical-align: middle;\n",
              "    }\n",
              "\n",
              "    .dataframe tbody tr th {\n",
              "        vertical-align: top;\n",
              "    }\n",
              "\n",
              "    .dataframe thead th {\n",
              "        text-align: right;\n",
              "    }\n",
              "</style>\n",
              "<table border=\"1\" class=\"dataframe\">\n",
              "  <thead>\n",
              "    <tr style=\"text-align: right;\">\n",
              "      <th></th>\n",
              "      <th>age</th>\n",
              "      <th>section</th>\n",
              "      <th>city</th>\n",
              "      <th>gender</th>\n",
              "      <th>favourite_color</th>\n",
              "    </tr>\n",
              "  </thead>\n",
              "  <tbody>\n",
              "    <tr>\n",
              "      <th>0</th>\n",
              "      <td>10</td>\n",
              "      <td>A</td>\n",
              "      <td>Gurgaon</td>\n",
              "      <td>M</td>\n",
              "      <td>red</td>\n",
              "    </tr>\n",
              "    <tr>\n",
              "      <th>1</th>\n",
              "      <td>22</td>\n",
              "      <td>M</td>\n",
              "      <td>Delhi</td>\n",
              "      <td>F</td>\n",
              "      <td>NaN</td>\n",
              "    </tr>\n",
              "    <tr>\n",
              "      <th>2</th>\n",
              "      <td>13</td>\n",
              "      <td>M</td>\n",
              "      <td>Mumbai</td>\n",
              "      <td>F</td>\n",
              "      <td>yellow</td>\n",
              "    </tr>\n",
              "    <tr>\n",
              "      <th>3</th>\n",
              "      <td>21</td>\n",
              "      <td>M</td>\n",
              "      <td>Delhi</td>\n",
              "      <td>M</td>\n",
              "      <td>NaN</td>\n",
              "    </tr>\n",
              "    <tr>\n",
              "      <th>4</th>\n",
              "      <td>12</td>\n",
              "      <td>M</td>\n",
              "      <td>Mumbai</td>\n",
              "      <td>M</td>\n",
              "      <td>black</td>\n",
              "    </tr>\n",
              "    <tr>\n",
              "      <th>5</th>\n",
              "      <td>11</td>\n",
              "      <td>A</td>\n",
              "      <td>Delhi</td>\n",
              "      <td>M</td>\n",
              "      <td>green</td>\n",
              "    </tr>\n",
              "    <tr>\n",
              "      <th>6</th>\n",
              "      <td>17</td>\n",
              "      <td>M</td>\n",
              "      <td>Mumbai</td>\n",
              "      <td>F</td>\n",
              "      <td>red</td>\n",
              "    </tr>\n",
              "  </tbody>\n",
              "</table>\n",
              "</div>"
            ],
            "text/plain": [
              "   age section     city gender favourite_color\n",
              "0   10       A  Gurgaon      M             red\n",
              "1   22       M    Delhi      F             NaN\n",
              "2   13       M   Mumbai      F          yellow\n",
              "3   21       M    Delhi      M             NaN\n",
              "4   12       M   Mumbai      M           black\n",
              "5   11       A    Delhi      M           green\n",
              "6   17       M   Mumbai      F             red"
            ]
          },
          "metadata": {
            "tags": []
          },
          "execution_count": 14
        }
      ]
    },
    {
      "cell_type": "code",
      "metadata": {
        "colab": {
          "base_uri": "https://localhost:8080/",
          "height": 252
        },
        "id": "49tpiPyyY8da",
        "outputId": "97b64866-ca50-4974-84ba-5716666282e4"
      },
      "source": [
        "# update multiple columns with condition\n",
        "data.loc[(data.age >= 20), ['section', 'city']] = ['S','Pune']\n",
        "data"
      ],
      "execution_count": 15,
      "outputs": [
        {
          "output_type": "execute_result",
          "data": {
            "text/html": [
              "<div>\n",
              "<style scoped>\n",
              "    .dataframe tbody tr th:only-of-type {\n",
              "        vertical-align: middle;\n",
              "    }\n",
              "\n",
              "    .dataframe tbody tr th {\n",
              "        vertical-align: top;\n",
              "    }\n",
              "\n",
              "    .dataframe thead th {\n",
              "        text-align: right;\n",
              "    }\n",
              "</style>\n",
              "<table border=\"1\" class=\"dataframe\">\n",
              "  <thead>\n",
              "    <tr style=\"text-align: right;\">\n",
              "      <th></th>\n",
              "      <th>age</th>\n",
              "      <th>section</th>\n",
              "      <th>city</th>\n",
              "      <th>gender</th>\n",
              "      <th>favourite_color</th>\n",
              "    </tr>\n",
              "  </thead>\n",
              "  <tbody>\n",
              "    <tr>\n",
              "      <th>0</th>\n",
              "      <td>10</td>\n",
              "      <td>A</td>\n",
              "      <td>Gurgaon</td>\n",
              "      <td>M</td>\n",
              "      <td>red</td>\n",
              "    </tr>\n",
              "    <tr>\n",
              "      <th>1</th>\n",
              "      <td>22</td>\n",
              "      <td>S</td>\n",
              "      <td>Pune</td>\n",
              "      <td>F</td>\n",
              "      <td>NaN</td>\n",
              "    </tr>\n",
              "    <tr>\n",
              "      <th>2</th>\n",
              "      <td>13</td>\n",
              "      <td>M</td>\n",
              "      <td>Mumbai</td>\n",
              "      <td>F</td>\n",
              "      <td>yellow</td>\n",
              "    </tr>\n",
              "    <tr>\n",
              "      <th>3</th>\n",
              "      <td>21</td>\n",
              "      <td>S</td>\n",
              "      <td>Pune</td>\n",
              "      <td>M</td>\n",
              "      <td>NaN</td>\n",
              "    </tr>\n",
              "    <tr>\n",
              "      <th>4</th>\n",
              "      <td>12</td>\n",
              "      <td>M</td>\n",
              "      <td>Mumbai</td>\n",
              "      <td>M</td>\n",
              "      <td>black</td>\n",
              "    </tr>\n",
              "    <tr>\n",
              "      <th>5</th>\n",
              "      <td>11</td>\n",
              "      <td>A</td>\n",
              "      <td>Delhi</td>\n",
              "      <td>M</td>\n",
              "      <td>green</td>\n",
              "    </tr>\n",
              "    <tr>\n",
              "      <th>6</th>\n",
              "      <td>17</td>\n",
              "      <td>M</td>\n",
              "      <td>Mumbai</td>\n",
              "      <td>F</td>\n",
              "      <td>red</td>\n",
              "    </tr>\n",
              "  </tbody>\n",
              "</table>\n",
              "</div>"
            ],
            "text/plain": [
              "   age section     city gender favourite_color\n",
              "0   10       A  Gurgaon      M             red\n",
              "1   22       S     Pune      F             NaN\n",
              "2   13       M   Mumbai      F          yellow\n",
              "3   21       S     Pune      M             NaN\n",
              "4   12       M   Mumbai      M           black\n",
              "5   11       A    Delhi      M           green\n",
              "6   17       M   Mumbai      F             red"
            ]
          },
          "metadata": {
            "tags": []
          },
          "execution_count": 15
        }
      ]
    },
    {
      "cell_type": "code",
      "metadata": {
        "colab": {
          "base_uri": "https://localhost:8080/",
          "height": 106
        },
        "id": "2ZWIrtsnZAj6",
        "outputId": "6f4fa825-b489-4fec-cbfe-f3680a14bc2e"
      },
      "source": [
        "# select rows with indexes\n",
        "data.iloc[[0,2]]"
      ],
      "execution_count": 16,
      "outputs": [
        {
          "output_type": "execute_result",
          "data": {
            "text/html": [
              "<div>\n",
              "<style scoped>\n",
              "    .dataframe tbody tr th:only-of-type {\n",
              "        vertical-align: middle;\n",
              "    }\n",
              "\n",
              "    .dataframe tbody tr th {\n",
              "        vertical-align: top;\n",
              "    }\n",
              "\n",
              "    .dataframe thead th {\n",
              "        text-align: right;\n",
              "    }\n",
              "</style>\n",
              "<table border=\"1\" class=\"dataframe\">\n",
              "  <thead>\n",
              "    <tr style=\"text-align: right;\">\n",
              "      <th></th>\n",
              "      <th>age</th>\n",
              "      <th>section</th>\n",
              "      <th>city</th>\n",
              "      <th>gender</th>\n",
              "      <th>favourite_color</th>\n",
              "    </tr>\n",
              "  </thead>\n",
              "  <tbody>\n",
              "    <tr>\n",
              "      <th>0</th>\n",
              "      <td>10</td>\n",
              "      <td>A</td>\n",
              "      <td>Gurgaon</td>\n",
              "      <td>M</td>\n",
              "      <td>red</td>\n",
              "    </tr>\n",
              "    <tr>\n",
              "      <th>2</th>\n",
              "      <td>13</td>\n",
              "      <td>M</td>\n",
              "      <td>Mumbai</td>\n",
              "      <td>F</td>\n",
              "      <td>yellow</td>\n",
              "    </tr>\n",
              "  </tbody>\n",
              "</table>\n",
              "</div>"
            ],
            "text/plain": [
              "   age section     city gender favourite_color\n",
              "0   10       A  Gurgaon      M             red\n",
              "2   13       M   Mumbai      F          yellow"
            ]
          },
          "metadata": {
            "tags": []
          },
          "execution_count": 16
        }
      ]
    },
    {
      "cell_type": "code",
      "metadata": {
        "colab": {
          "base_uri": "https://localhost:8080/",
          "height": 106
        },
        "id": "rH5fzXsmZFKg",
        "outputId": "d7a5c068-ee78-424b-dfae-855f44a7bcc8"
      },
      "source": [
        "# select rows with particular indexes and particular columns\n",
        "data.iloc[[0,2],[1,3]]"
      ],
      "execution_count": 17,
      "outputs": [
        {
          "output_type": "execute_result",
          "data": {
            "text/html": [
              "<div>\n",
              "<style scoped>\n",
              "    .dataframe tbody tr th:only-of-type {\n",
              "        vertical-align: middle;\n",
              "    }\n",
              "\n",
              "    .dataframe tbody tr th {\n",
              "        vertical-align: top;\n",
              "    }\n",
              "\n",
              "    .dataframe thead th {\n",
              "        text-align: right;\n",
              "    }\n",
              "</style>\n",
              "<table border=\"1\" class=\"dataframe\">\n",
              "  <thead>\n",
              "    <tr style=\"text-align: right;\">\n",
              "      <th></th>\n",
              "      <th>section</th>\n",
              "      <th>gender</th>\n",
              "    </tr>\n",
              "  </thead>\n",
              "  <tbody>\n",
              "    <tr>\n",
              "      <th>0</th>\n",
              "      <td>A</td>\n",
              "      <td>M</td>\n",
              "    </tr>\n",
              "    <tr>\n",
              "      <th>2</th>\n",
              "      <td>M</td>\n",
              "      <td>F</td>\n",
              "    </tr>\n",
              "  </tbody>\n",
              "</table>\n",
              "</div>"
            ],
            "text/plain": [
              "  section gender\n",
              "0       A      M\n",
              "2       M      F"
            ]
          },
          "metadata": {
            "tags": []
          },
          "execution_count": 17
        }
      ]
    },
    {
      "cell_type": "code",
      "metadata": {
        "colab": {
          "base_uri": "https://localhost:8080/",
          "height": 106
        },
        "id": "jKBAHvh5ZJc5",
        "outputId": "1e36fecb-1614-4edc-f808-6b89a45e7a43"
      },
      "source": [
        "# select a range of rows\n",
        "data.iloc[1:3]"
      ],
      "execution_count": 18,
      "outputs": [
        {
          "output_type": "execute_result",
          "data": {
            "text/html": [
              "<div>\n",
              "<style scoped>\n",
              "    .dataframe tbody tr th:only-of-type {\n",
              "        vertical-align: middle;\n",
              "    }\n",
              "\n",
              "    .dataframe tbody tr th {\n",
              "        vertical-align: top;\n",
              "    }\n",
              "\n",
              "    .dataframe thead th {\n",
              "        text-align: right;\n",
              "    }\n",
              "</style>\n",
              "<table border=\"1\" class=\"dataframe\">\n",
              "  <thead>\n",
              "    <tr style=\"text-align: right;\">\n",
              "      <th></th>\n",
              "      <th>age</th>\n",
              "      <th>section</th>\n",
              "      <th>city</th>\n",
              "      <th>gender</th>\n",
              "      <th>favourite_color</th>\n",
              "    </tr>\n",
              "  </thead>\n",
              "  <tbody>\n",
              "    <tr>\n",
              "      <th>1</th>\n",
              "      <td>22</td>\n",
              "      <td>S</td>\n",
              "      <td>Pune</td>\n",
              "      <td>F</td>\n",
              "      <td>NaN</td>\n",
              "    </tr>\n",
              "    <tr>\n",
              "      <th>2</th>\n",
              "      <td>13</td>\n",
              "      <td>M</td>\n",
              "      <td>Mumbai</td>\n",
              "      <td>F</td>\n",
              "      <td>yellow</td>\n",
              "    </tr>\n",
              "  </tbody>\n",
              "</table>\n",
              "</div>"
            ],
            "text/plain": [
              "   age section    city gender favourite_color\n",
              "1   22       S    Pune      F             NaN\n",
              "2   13       M  Mumbai      F          yellow"
            ]
          },
          "metadata": {
            "tags": []
          },
          "execution_count": 18
        }
      ]
    },
    {
      "cell_type": "code",
      "metadata": {
        "colab": {
          "base_uri": "https://localhost:8080/",
          "height": 106
        },
        "id": "k81Gb9JbZMvZ",
        "outputId": "e2489dc8-dd96-412e-d554-8644717757c1"
      },
      "source": [
        "# select a range of rows and columns\n",
        "data.iloc[1:3,2:4]"
      ],
      "execution_count": 19,
      "outputs": [
        {
          "output_type": "execute_result",
          "data": {
            "text/html": [
              "<div>\n",
              "<style scoped>\n",
              "    .dataframe tbody tr th:only-of-type {\n",
              "        vertical-align: middle;\n",
              "    }\n",
              "\n",
              "    .dataframe tbody tr th {\n",
              "        vertical-align: top;\n",
              "    }\n",
              "\n",
              "    .dataframe thead th {\n",
              "        text-align: right;\n",
              "    }\n",
              "</style>\n",
              "<table border=\"1\" class=\"dataframe\">\n",
              "  <thead>\n",
              "    <tr style=\"text-align: right;\">\n",
              "      <th></th>\n",
              "      <th>city</th>\n",
              "      <th>gender</th>\n",
              "    </tr>\n",
              "  </thead>\n",
              "  <tbody>\n",
              "    <tr>\n",
              "      <th>1</th>\n",
              "      <td>Pune</td>\n",
              "      <td>F</td>\n",
              "    </tr>\n",
              "    <tr>\n",
              "      <th>2</th>\n",
              "      <td>Mumbai</td>\n",
              "      <td>F</td>\n",
              "    </tr>\n",
              "  </tbody>\n",
              "</table>\n",
              "</div>"
            ],
            "text/plain": [
              "     city gender\n",
              "1    Pune      F\n",
              "2  Mumbai      F"
            ]
          },
          "metadata": {
            "tags": []
          },
          "execution_count": 19
        }
      ]
    },
    {
      "cell_type": "code",
      "metadata": {
        "id": "WZ_wTklBZQlW"
      },
      "source": [
        "# importing the module \n",
        "import pandas as pd"
      ],
      "execution_count": 20,
      "outputs": []
    },
    {
      "cell_type": "code",
      "metadata": {
        "colab": {
          "base_uri": "https://localhost:8080/",
          "height": 311
        },
        "id": "xI0GPFzUZVN5",
        "outputId": "5f0d5df0-d828-46b8-ca48-9799bd9d0e24"
      },
      "source": [
        "# creating a sample dataframe \n",
        "data = pd.DataFrame({'Brand' : ['Maruti', 'Hyundai', 'Tata', \n",
        "                                'Mahindra', 'Maruti', 'Hyundai', \n",
        "                                'Renault', 'Tata', 'Maruti'], \n",
        "                     'Year' : [2012, 2014, 2011, 2015, 2012,  \n",
        "                               2016, 2014, 2018, 2019], \n",
        "                     'Kms Driven' : [50000, 30000, 60000,  \n",
        "                                     25000, 10000, 46000,  \n",
        "                                     31000, 15000, 12000], \n",
        "                     'City' : ['Gurgaon', 'Delhi', 'Mumbai',  \n",
        "                               'Delhi', 'Mumbai', 'Delhi',  \n",
        "                               'Mumbai','Chennai',  'Ghaziabad'], \n",
        "                     'Mileage' :  [28, 27, 25, 26, 28,  \n",
        "                                   29, 24, 21, 24]}) \n",
        "   \n",
        "# displaying the DataFrame \n",
        "display(data) "
      ],
      "execution_count": 21,
      "outputs": [
        {
          "output_type": "display_data",
          "data": {
            "text/html": [
              "<div>\n",
              "<style scoped>\n",
              "    .dataframe tbody tr th:only-of-type {\n",
              "        vertical-align: middle;\n",
              "    }\n",
              "\n",
              "    .dataframe tbody tr th {\n",
              "        vertical-align: top;\n",
              "    }\n",
              "\n",
              "    .dataframe thead th {\n",
              "        text-align: right;\n",
              "    }\n",
              "</style>\n",
              "<table border=\"1\" class=\"dataframe\">\n",
              "  <thead>\n",
              "    <tr style=\"text-align: right;\">\n",
              "      <th></th>\n",
              "      <th>Brand</th>\n",
              "      <th>Year</th>\n",
              "      <th>Kms Driven</th>\n",
              "      <th>City</th>\n",
              "      <th>Mileage</th>\n",
              "    </tr>\n",
              "  </thead>\n",
              "  <tbody>\n",
              "    <tr>\n",
              "      <th>0</th>\n",
              "      <td>Maruti</td>\n",
              "      <td>2012</td>\n",
              "      <td>50000</td>\n",
              "      <td>Gurgaon</td>\n",
              "      <td>28</td>\n",
              "    </tr>\n",
              "    <tr>\n",
              "      <th>1</th>\n",
              "      <td>Hyundai</td>\n",
              "      <td>2014</td>\n",
              "      <td>30000</td>\n",
              "      <td>Delhi</td>\n",
              "      <td>27</td>\n",
              "    </tr>\n",
              "    <tr>\n",
              "      <th>2</th>\n",
              "      <td>Tata</td>\n",
              "      <td>2011</td>\n",
              "      <td>60000</td>\n",
              "      <td>Mumbai</td>\n",
              "      <td>25</td>\n",
              "    </tr>\n",
              "    <tr>\n",
              "      <th>3</th>\n",
              "      <td>Mahindra</td>\n",
              "      <td>2015</td>\n",
              "      <td>25000</td>\n",
              "      <td>Delhi</td>\n",
              "      <td>26</td>\n",
              "    </tr>\n",
              "    <tr>\n",
              "      <th>4</th>\n",
              "      <td>Maruti</td>\n",
              "      <td>2012</td>\n",
              "      <td>10000</td>\n",
              "      <td>Mumbai</td>\n",
              "      <td>28</td>\n",
              "    </tr>\n",
              "    <tr>\n",
              "      <th>5</th>\n",
              "      <td>Hyundai</td>\n",
              "      <td>2016</td>\n",
              "      <td>46000</td>\n",
              "      <td>Delhi</td>\n",
              "      <td>29</td>\n",
              "    </tr>\n",
              "    <tr>\n",
              "      <th>6</th>\n",
              "      <td>Renault</td>\n",
              "      <td>2014</td>\n",
              "      <td>31000</td>\n",
              "      <td>Mumbai</td>\n",
              "      <td>24</td>\n",
              "    </tr>\n",
              "    <tr>\n",
              "      <th>7</th>\n",
              "      <td>Tata</td>\n",
              "      <td>2018</td>\n",
              "      <td>15000</td>\n",
              "      <td>Chennai</td>\n",
              "      <td>21</td>\n",
              "    </tr>\n",
              "    <tr>\n",
              "      <th>8</th>\n",
              "      <td>Maruti</td>\n",
              "      <td>2019</td>\n",
              "      <td>12000</td>\n",
              "      <td>Ghaziabad</td>\n",
              "      <td>24</td>\n",
              "    </tr>\n",
              "  </tbody>\n",
              "</table>\n",
              "</div>"
            ],
            "text/plain": [
              "      Brand  Year  Kms Driven       City  Mileage\n",
              "0    Maruti  2012       50000    Gurgaon       28\n",
              "1   Hyundai  2014       30000      Delhi       27\n",
              "2      Tata  2011       60000     Mumbai       25\n",
              "3  Mahindra  2015       25000      Delhi       26\n",
              "4    Maruti  2012       10000     Mumbai       28\n",
              "5   Hyundai  2016       46000      Delhi       29\n",
              "6   Renault  2014       31000     Mumbai       24\n",
              "7      Tata  2018       15000    Chennai       21\n",
              "8    Maruti  2019       12000  Ghaziabad       24"
            ]
          },
          "metadata": {
            "tags": []
          }
        }
      ]
    },
    {
      "cell_type": "code",
      "metadata": {
        "colab": {
          "base_uri": "https://localhost:8080/",
          "height": 106
        },
        "id": "0SWfB1cAZYOv",
        "outputId": "b7595d45-c771-4ec9-d9dc-04ace077f512"
      },
      "source": [
        "# selecting cars with brand 'Maruti' and Mileage > 25 \n",
        "display(data.loc[(data.Brand == 'Maruti') & (data.Mileage > 25)]) "
      ],
      "execution_count": 22,
      "outputs": [
        {
          "output_type": "display_data",
          "data": {
            "text/html": [
              "<div>\n",
              "<style scoped>\n",
              "    .dataframe tbody tr th:only-of-type {\n",
              "        vertical-align: middle;\n",
              "    }\n",
              "\n",
              "    .dataframe tbody tr th {\n",
              "        vertical-align: top;\n",
              "    }\n",
              "\n",
              "    .dataframe thead th {\n",
              "        text-align: right;\n",
              "    }\n",
              "</style>\n",
              "<table border=\"1\" class=\"dataframe\">\n",
              "  <thead>\n",
              "    <tr style=\"text-align: right;\">\n",
              "      <th></th>\n",
              "      <th>Brand</th>\n",
              "      <th>Year</th>\n",
              "      <th>Kms Driven</th>\n",
              "      <th>City</th>\n",
              "      <th>Mileage</th>\n",
              "    </tr>\n",
              "  </thead>\n",
              "  <tbody>\n",
              "    <tr>\n",
              "      <th>0</th>\n",
              "      <td>Maruti</td>\n",
              "      <td>2012</td>\n",
              "      <td>50000</td>\n",
              "      <td>Gurgaon</td>\n",
              "      <td>28</td>\n",
              "    </tr>\n",
              "    <tr>\n",
              "      <th>4</th>\n",
              "      <td>Maruti</td>\n",
              "      <td>2012</td>\n",
              "      <td>10000</td>\n",
              "      <td>Mumbai</td>\n",
              "      <td>28</td>\n",
              "    </tr>\n",
              "  </tbody>\n",
              "</table>\n",
              "</div>"
            ],
            "text/plain": [
              "    Brand  Year  Kms Driven     City  Mileage\n",
              "0  Maruti  2012       50000  Gurgaon       28\n",
              "4  Maruti  2012       10000   Mumbai       28"
            ]
          },
          "metadata": {
            "tags": []
          }
        }
      ]
    },
    {
      "cell_type": "code",
      "metadata": {
        "colab": {
          "base_uri": "https://localhost:8080/",
          "height": 164
        },
        "id": "LYu9szQrZdF-",
        "outputId": "a0627126-7b4f-4045-8dad-ac7ae87f07cc"
      },
      "source": [
        "# selecting range of rows from 2 to 5 \n",
        "display(data.loc[2 : 5]) "
      ],
      "execution_count": 23,
      "outputs": [
        {
          "output_type": "display_data",
          "data": {
            "text/html": [
              "<div>\n",
              "<style scoped>\n",
              "    .dataframe tbody tr th:only-of-type {\n",
              "        vertical-align: middle;\n",
              "    }\n",
              "\n",
              "    .dataframe tbody tr th {\n",
              "        vertical-align: top;\n",
              "    }\n",
              "\n",
              "    .dataframe thead th {\n",
              "        text-align: right;\n",
              "    }\n",
              "</style>\n",
              "<table border=\"1\" class=\"dataframe\">\n",
              "  <thead>\n",
              "    <tr style=\"text-align: right;\">\n",
              "      <th></th>\n",
              "      <th>Brand</th>\n",
              "      <th>Year</th>\n",
              "      <th>Kms Driven</th>\n",
              "      <th>City</th>\n",
              "      <th>Mileage</th>\n",
              "    </tr>\n",
              "  </thead>\n",
              "  <tbody>\n",
              "    <tr>\n",
              "      <th>2</th>\n",
              "      <td>Tata</td>\n",
              "      <td>2011</td>\n",
              "      <td>60000</td>\n",
              "      <td>Mumbai</td>\n",
              "      <td>25</td>\n",
              "    </tr>\n",
              "    <tr>\n",
              "      <th>3</th>\n",
              "      <td>Mahindra</td>\n",
              "      <td>2015</td>\n",
              "      <td>25000</td>\n",
              "      <td>Delhi</td>\n",
              "      <td>26</td>\n",
              "    </tr>\n",
              "    <tr>\n",
              "      <th>4</th>\n",
              "      <td>Maruti</td>\n",
              "      <td>2012</td>\n",
              "      <td>10000</td>\n",
              "      <td>Mumbai</td>\n",
              "      <td>28</td>\n",
              "    </tr>\n",
              "    <tr>\n",
              "      <th>5</th>\n",
              "      <td>Hyundai</td>\n",
              "      <td>2016</td>\n",
              "      <td>46000</td>\n",
              "      <td>Delhi</td>\n",
              "      <td>29</td>\n",
              "    </tr>\n",
              "  </tbody>\n",
              "</table>\n",
              "</div>"
            ],
            "text/plain": [
              "      Brand  Year  Kms Driven    City  Mileage\n",
              "2      Tata  2011       60000  Mumbai       25\n",
              "3  Mahindra  2015       25000   Delhi       26\n",
              "4    Maruti  2012       10000  Mumbai       28\n",
              "5   Hyundai  2016       46000   Delhi       29"
            ]
          },
          "metadata": {
            "tags": []
          }
        }
      ]
    },
    {
      "cell_type": "code",
      "metadata": {
        "colab": {
          "base_uri": "https://localhost:8080/",
          "height": 311
        },
        "id": "z1jUR-mgZiP2",
        "outputId": "c05f0bc7-ab71-4d63-998b-5fdba409b80e"
      },
      "source": [
        "# updating values of Mileage if Year < 2015 \n",
        "data.loc[(data.Year < 2015), ['Mileage']] = 22\n",
        "display(data) "
      ],
      "execution_count": 24,
      "outputs": [
        {
          "output_type": "display_data",
          "data": {
            "text/html": [
              "<div>\n",
              "<style scoped>\n",
              "    .dataframe tbody tr th:only-of-type {\n",
              "        vertical-align: middle;\n",
              "    }\n",
              "\n",
              "    .dataframe tbody tr th {\n",
              "        vertical-align: top;\n",
              "    }\n",
              "\n",
              "    .dataframe thead th {\n",
              "        text-align: right;\n",
              "    }\n",
              "</style>\n",
              "<table border=\"1\" class=\"dataframe\">\n",
              "  <thead>\n",
              "    <tr style=\"text-align: right;\">\n",
              "      <th></th>\n",
              "      <th>Brand</th>\n",
              "      <th>Year</th>\n",
              "      <th>Kms Driven</th>\n",
              "      <th>City</th>\n",
              "      <th>Mileage</th>\n",
              "    </tr>\n",
              "  </thead>\n",
              "  <tbody>\n",
              "    <tr>\n",
              "      <th>0</th>\n",
              "      <td>Maruti</td>\n",
              "      <td>2012</td>\n",
              "      <td>50000</td>\n",
              "      <td>Gurgaon</td>\n",
              "      <td>22</td>\n",
              "    </tr>\n",
              "    <tr>\n",
              "      <th>1</th>\n",
              "      <td>Hyundai</td>\n",
              "      <td>2014</td>\n",
              "      <td>30000</td>\n",
              "      <td>Delhi</td>\n",
              "      <td>22</td>\n",
              "    </tr>\n",
              "    <tr>\n",
              "      <th>2</th>\n",
              "      <td>Tata</td>\n",
              "      <td>2011</td>\n",
              "      <td>60000</td>\n",
              "      <td>Mumbai</td>\n",
              "      <td>22</td>\n",
              "    </tr>\n",
              "    <tr>\n",
              "      <th>3</th>\n",
              "      <td>Mahindra</td>\n",
              "      <td>2015</td>\n",
              "      <td>25000</td>\n",
              "      <td>Delhi</td>\n",
              "      <td>26</td>\n",
              "    </tr>\n",
              "    <tr>\n",
              "      <th>4</th>\n",
              "      <td>Maruti</td>\n",
              "      <td>2012</td>\n",
              "      <td>10000</td>\n",
              "      <td>Mumbai</td>\n",
              "      <td>22</td>\n",
              "    </tr>\n",
              "    <tr>\n",
              "      <th>5</th>\n",
              "      <td>Hyundai</td>\n",
              "      <td>2016</td>\n",
              "      <td>46000</td>\n",
              "      <td>Delhi</td>\n",
              "      <td>29</td>\n",
              "    </tr>\n",
              "    <tr>\n",
              "      <th>6</th>\n",
              "      <td>Renault</td>\n",
              "      <td>2014</td>\n",
              "      <td>31000</td>\n",
              "      <td>Mumbai</td>\n",
              "      <td>22</td>\n",
              "    </tr>\n",
              "    <tr>\n",
              "      <th>7</th>\n",
              "      <td>Tata</td>\n",
              "      <td>2018</td>\n",
              "      <td>15000</td>\n",
              "      <td>Chennai</td>\n",
              "      <td>21</td>\n",
              "    </tr>\n",
              "    <tr>\n",
              "      <th>8</th>\n",
              "      <td>Maruti</td>\n",
              "      <td>2019</td>\n",
              "      <td>12000</td>\n",
              "      <td>Ghaziabad</td>\n",
              "      <td>24</td>\n",
              "    </tr>\n",
              "  </tbody>\n",
              "</table>\n",
              "</div>"
            ],
            "text/plain": [
              "      Brand  Year  Kms Driven       City  Mileage\n",
              "0    Maruti  2012       50000    Gurgaon       22\n",
              "1   Hyundai  2014       30000      Delhi       22\n",
              "2      Tata  2011       60000     Mumbai       22\n",
              "3  Mahindra  2015       25000      Delhi       26\n",
              "4    Maruti  2012       10000     Mumbai       22\n",
              "5   Hyundai  2016       46000      Delhi       29\n",
              "6   Renault  2014       31000     Mumbai       22\n",
              "7      Tata  2018       15000    Chennai       21\n",
              "8    Maruti  2019       12000  Ghaziabad       24"
            ]
          },
          "metadata": {
            "tags": []
          }
        }
      ]
    },
    {
      "cell_type": "code",
      "metadata": {
        "colab": {
          "base_uri": "https://localhost:8080/",
          "height": 164
        },
        "id": "mwG6qKToZmZv",
        "outputId": "50d2daf6-c44c-4095-c83e-e22010d76b8d"
      },
      "source": [
        "# selecting 0th, 2th, 4th, and 7th index rows \n",
        "display(data.iloc[[0, 2, 4, 7]]) "
      ],
      "execution_count": 25,
      "outputs": [
        {
          "output_type": "display_data",
          "data": {
            "text/html": [
              "<div>\n",
              "<style scoped>\n",
              "    .dataframe tbody tr th:only-of-type {\n",
              "        vertical-align: middle;\n",
              "    }\n",
              "\n",
              "    .dataframe tbody tr th {\n",
              "        vertical-align: top;\n",
              "    }\n",
              "\n",
              "    .dataframe thead th {\n",
              "        text-align: right;\n",
              "    }\n",
              "</style>\n",
              "<table border=\"1\" class=\"dataframe\">\n",
              "  <thead>\n",
              "    <tr style=\"text-align: right;\">\n",
              "      <th></th>\n",
              "      <th>Brand</th>\n",
              "      <th>Year</th>\n",
              "      <th>Kms Driven</th>\n",
              "      <th>City</th>\n",
              "      <th>Mileage</th>\n",
              "    </tr>\n",
              "  </thead>\n",
              "  <tbody>\n",
              "    <tr>\n",
              "      <th>0</th>\n",
              "      <td>Maruti</td>\n",
              "      <td>2012</td>\n",
              "      <td>50000</td>\n",
              "      <td>Gurgaon</td>\n",
              "      <td>22</td>\n",
              "    </tr>\n",
              "    <tr>\n",
              "      <th>2</th>\n",
              "      <td>Tata</td>\n",
              "      <td>2011</td>\n",
              "      <td>60000</td>\n",
              "      <td>Mumbai</td>\n",
              "      <td>22</td>\n",
              "    </tr>\n",
              "    <tr>\n",
              "      <th>4</th>\n",
              "      <td>Maruti</td>\n",
              "      <td>2012</td>\n",
              "      <td>10000</td>\n",
              "      <td>Mumbai</td>\n",
              "      <td>22</td>\n",
              "    </tr>\n",
              "    <tr>\n",
              "      <th>7</th>\n",
              "      <td>Tata</td>\n",
              "      <td>2018</td>\n",
              "      <td>15000</td>\n",
              "      <td>Chennai</td>\n",
              "      <td>21</td>\n",
              "    </tr>\n",
              "  </tbody>\n",
              "</table>\n",
              "</div>"
            ],
            "text/plain": [
              "    Brand  Year  Kms Driven     City  Mileage\n",
              "0  Maruti  2012       50000  Gurgaon       22\n",
              "2    Tata  2011       60000   Mumbai       22\n",
              "4  Maruti  2012       10000   Mumbai       22\n",
              "7    Tata  2018       15000  Chennai       21"
            ]
          },
          "metadata": {
            "tags": []
          }
        }
      ]
    },
    {
      "cell_type": "code",
      "metadata": {
        "colab": {
          "base_uri": "https://localhost:8080/",
          "height": 164
        },
        "id": "lEH0SYe2ZqL4",
        "outputId": "da805efb-0ad1-42fa-eee5-4404498984db"
      },
      "source": [
        "# selecting rows from 1 to 4 and columns from 2 to 4 \n",
        "display(data.iloc[1 : 5, 2 : 5]) "
      ],
      "execution_count": 26,
      "outputs": [
        {
          "output_type": "display_data",
          "data": {
            "text/html": [
              "<div>\n",
              "<style scoped>\n",
              "    .dataframe tbody tr th:only-of-type {\n",
              "        vertical-align: middle;\n",
              "    }\n",
              "\n",
              "    .dataframe tbody tr th {\n",
              "        vertical-align: top;\n",
              "    }\n",
              "\n",
              "    .dataframe thead th {\n",
              "        text-align: right;\n",
              "    }\n",
              "</style>\n",
              "<table border=\"1\" class=\"dataframe\">\n",
              "  <thead>\n",
              "    <tr style=\"text-align: right;\">\n",
              "      <th></th>\n",
              "      <th>Kms Driven</th>\n",
              "      <th>City</th>\n",
              "      <th>Mileage</th>\n",
              "    </tr>\n",
              "  </thead>\n",
              "  <tbody>\n",
              "    <tr>\n",
              "      <th>1</th>\n",
              "      <td>30000</td>\n",
              "      <td>Delhi</td>\n",
              "      <td>22</td>\n",
              "    </tr>\n",
              "    <tr>\n",
              "      <th>2</th>\n",
              "      <td>60000</td>\n",
              "      <td>Mumbai</td>\n",
              "      <td>22</td>\n",
              "    </tr>\n",
              "    <tr>\n",
              "      <th>3</th>\n",
              "      <td>25000</td>\n",
              "      <td>Delhi</td>\n",
              "      <td>26</td>\n",
              "    </tr>\n",
              "    <tr>\n",
              "      <th>4</th>\n",
              "      <td>10000</td>\n",
              "      <td>Mumbai</td>\n",
              "      <td>22</td>\n",
              "    </tr>\n",
              "  </tbody>\n",
              "</table>\n",
              "</div>"
            ],
            "text/plain": [
              "   Kms Driven    City  Mileage\n",
              "1       30000   Delhi       22\n",
              "2       60000  Mumbai       22\n",
              "3       25000   Delhi       26\n",
              "4       10000  Mumbai       22"
            ]
          },
          "metadata": {
            "tags": []
          }
        }
      ]
    },
    {
      "cell_type": "code",
      "metadata": {
        "id": "6I52zTDaZtvE"
      },
      "source": [
        "s = pd.Series(np.nan, index=[49,48,47,46,45, 1, 2, 3, 4, 5])"
      ],
      "execution_count": 27,
      "outputs": []
    },
    {
      "cell_type": "code",
      "metadata": {
        "colab": {
          "base_uri": "https://localhost:8080/"
        },
        "id": "XCiKR9GBZxIv",
        "outputId": "3046962a-484c-462c-d1d0-df9f26e3dc71"
      },
      "source": [
        "s"
      ],
      "execution_count": 28,
      "outputs": [
        {
          "output_type": "execute_result",
          "data": {
            "text/plain": [
              "49   NaN\n",
              "48   NaN\n",
              "47   NaN\n",
              "46   NaN\n",
              "45   NaN\n",
              "1    NaN\n",
              "2    NaN\n",
              "3    NaN\n",
              "4    NaN\n",
              "5    NaN\n",
              "dtype: float64"
            ]
          },
          "metadata": {
            "tags": []
          },
          "execution_count": 28
        }
      ]
    },
    {
      "cell_type": "code",
      "metadata": {
        "colab": {
          "base_uri": "https://localhost:8080/"
        },
        "id": "y_EERt5bZ09A",
        "outputId": "b65c458a-03de-46a9-bed5-861239be006f"
      },
      "source": [
        "s.iloc[:3]"
      ],
      "execution_count": 29,
      "outputs": [
        {
          "output_type": "execute_result",
          "data": {
            "text/plain": [
              "49   NaN\n",
              "48   NaN\n",
              "47   NaN\n",
              "dtype: float64"
            ]
          },
          "metadata": {
            "tags": []
          },
          "execution_count": 29
        }
      ]
    },
    {
      "cell_type": "code",
      "metadata": {
        "colab": {
          "base_uri": "https://localhost:8080/"
        },
        "id": "gPuDPwqBZ4pe",
        "outputId": "28926d31-09f4-4ecc-97b5-054a0f574b7d"
      },
      "source": [
        "s.loc[:3]"
      ],
      "execution_count": 30,
      "outputs": [
        {
          "output_type": "execute_result",
          "data": {
            "text/plain": [
              "49   NaN\n",
              "48   NaN\n",
              "47   NaN\n",
              "46   NaN\n",
              "45   NaN\n",
              "1    NaN\n",
              "2    NaN\n",
              "3    NaN\n",
              "dtype: float64"
            ]
          },
          "metadata": {
            "tags": []
          },
          "execution_count": 30
        }
      ]
    },
    {
      "cell_type": "code",
      "metadata": {
        "colab": {
          "base_uri": "https://localhost:8080/"
        },
        "id": "gBC8x1OPZ8PE",
        "outputId": "8c8f6a87-d46d-4e12-9a2d-977487940b22"
      },
      "source": [
        "s.iloc[:6]"
      ],
      "execution_count": 31,
      "outputs": [
        {
          "output_type": "execute_result",
          "data": {
            "text/plain": [
              "49   NaN\n",
              "48   NaN\n",
              "47   NaN\n",
              "46   NaN\n",
              "45   NaN\n",
              "1    NaN\n",
              "dtype: float64"
            ]
          },
          "metadata": {
            "tags": []
          },
          "execution_count": 31
        }
      ]
    },
    {
      "cell_type": "code",
      "metadata": {
        "id": "c7KFEQ0KZ_B6"
      },
      "source": [
        "df = pd.DataFrame({'age':[30, 2, 12, 4, 32, 33, 69],\n",
        "                   'color':['blue', 'green', 'red', 'white', 'gray', 'black', 'red'],\n",
        "                   'food':['Steak', 'Lamb', 'Mango', 'Apple', 'Cheese', 'Melon', 'Beans'],\n",
        "                   'height':[165, 70, 120, 80, 180, 172, 150],\n",
        "                   'score':[4.6, 8.3, 9.0, 3.3, 1.8, 9.5, 2.2],\n",
        "                   'state':['NY', 'TX', 'FL', 'AL', 'AK', 'TX', 'TX']\n",
        "                   },\n",
        "                  index=['Jane', 'Nick', 'Aaron', 'Penelope', 'Dean', 'Christina', 'Cornelia'])"
      ],
      "execution_count": 32,
      "outputs": []
    },
    {
      "cell_type": "code",
      "metadata": {
        "colab": {
          "base_uri": "https://localhost:8080/"
        },
        "id": "pyX_XmpXaD5o",
        "outputId": "15a596aa-1a8a-4adf-92e2-07c4a97582d4"
      },
      "source": [
        "df.loc['Penelope']"
      ],
      "execution_count": 33,
      "outputs": [
        {
          "output_type": "execute_result",
          "data": {
            "text/plain": [
              "age           4\n",
              "color     white\n",
              "food      Apple\n",
              "height       80\n",
              "score       3.3\n",
              "state        AL\n",
              "Name: Penelope, dtype: object"
            ]
          },
          "metadata": {
            "tags": []
          },
          "execution_count": 33
        }
      ]
    },
    {
      "cell_type": "code",
      "metadata": {
        "colab": {
          "base_uri": "https://localhost:8080/",
          "height": 135
        },
        "id": "pal4X4gNaHfD",
        "outputId": "664b9389-2da6-4ef5-9238-1c2e5b03f37d"
      },
      "source": [
        "df.loc[['Cornelia', 'Jane', 'Dean']]"
      ],
      "execution_count": 34,
      "outputs": [
        {
          "output_type": "execute_result",
          "data": {
            "text/html": [
              "<div>\n",
              "<style scoped>\n",
              "    .dataframe tbody tr th:only-of-type {\n",
              "        vertical-align: middle;\n",
              "    }\n",
              "\n",
              "    .dataframe tbody tr th {\n",
              "        vertical-align: top;\n",
              "    }\n",
              "\n",
              "    .dataframe thead th {\n",
              "        text-align: right;\n",
              "    }\n",
              "</style>\n",
              "<table border=\"1\" class=\"dataframe\">\n",
              "  <thead>\n",
              "    <tr style=\"text-align: right;\">\n",
              "      <th></th>\n",
              "      <th>age</th>\n",
              "      <th>color</th>\n",
              "      <th>food</th>\n",
              "      <th>height</th>\n",
              "      <th>score</th>\n",
              "      <th>state</th>\n",
              "    </tr>\n",
              "  </thead>\n",
              "  <tbody>\n",
              "    <tr>\n",
              "      <th>Cornelia</th>\n",
              "      <td>69</td>\n",
              "      <td>red</td>\n",
              "      <td>Beans</td>\n",
              "      <td>150</td>\n",
              "      <td>2.2</td>\n",
              "      <td>TX</td>\n",
              "    </tr>\n",
              "    <tr>\n",
              "      <th>Jane</th>\n",
              "      <td>30</td>\n",
              "      <td>blue</td>\n",
              "      <td>Steak</td>\n",
              "      <td>165</td>\n",
              "      <td>4.6</td>\n",
              "      <td>NY</td>\n",
              "    </tr>\n",
              "    <tr>\n",
              "      <th>Dean</th>\n",
              "      <td>32</td>\n",
              "      <td>gray</td>\n",
              "      <td>Cheese</td>\n",
              "      <td>180</td>\n",
              "      <td>1.8</td>\n",
              "      <td>AK</td>\n",
              "    </tr>\n",
              "  </tbody>\n",
              "</table>\n",
              "</div>"
            ],
            "text/plain": [
              "          age color    food  height  score state\n",
              "Cornelia   69   red   Beans     150    2.2    TX\n",
              "Jane       30  blue   Steak     165    4.6    NY\n",
              "Dean       32  gray  Cheese     180    1.8    AK"
            ]
          },
          "metadata": {
            "tags": []
          },
          "execution_count": 34
        }
      ]
    },
    {
      "cell_type": "code",
      "metadata": {
        "colab": {
          "base_uri": "https://localhost:8080/",
          "height": 135
        },
        "id": "N3gfC2gBaKt4",
        "outputId": "84a53b2f-f125-41fa-89af-d77688785be7"
      },
      "source": [
        "df.loc['Aaron':'Dean']"
      ],
      "execution_count": 35,
      "outputs": [
        {
          "output_type": "execute_result",
          "data": {
            "text/html": [
              "<div>\n",
              "<style scoped>\n",
              "    .dataframe tbody tr th:only-of-type {\n",
              "        vertical-align: middle;\n",
              "    }\n",
              "\n",
              "    .dataframe tbody tr th {\n",
              "        vertical-align: top;\n",
              "    }\n",
              "\n",
              "    .dataframe thead th {\n",
              "        text-align: right;\n",
              "    }\n",
              "</style>\n",
              "<table border=\"1\" class=\"dataframe\">\n",
              "  <thead>\n",
              "    <tr style=\"text-align: right;\">\n",
              "      <th></th>\n",
              "      <th>age</th>\n",
              "      <th>color</th>\n",
              "      <th>food</th>\n",
              "      <th>height</th>\n",
              "      <th>score</th>\n",
              "      <th>state</th>\n",
              "    </tr>\n",
              "  </thead>\n",
              "  <tbody>\n",
              "    <tr>\n",
              "      <th>Aaron</th>\n",
              "      <td>12</td>\n",
              "      <td>red</td>\n",
              "      <td>Mango</td>\n",
              "      <td>120</td>\n",
              "      <td>9.0</td>\n",
              "      <td>FL</td>\n",
              "    </tr>\n",
              "    <tr>\n",
              "      <th>Penelope</th>\n",
              "      <td>4</td>\n",
              "      <td>white</td>\n",
              "      <td>Apple</td>\n",
              "      <td>80</td>\n",
              "      <td>3.3</td>\n",
              "      <td>AL</td>\n",
              "    </tr>\n",
              "    <tr>\n",
              "      <th>Dean</th>\n",
              "      <td>32</td>\n",
              "      <td>gray</td>\n",
              "      <td>Cheese</td>\n",
              "      <td>180</td>\n",
              "      <td>1.8</td>\n",
              "      <td>AK</td>\n",
              "    </tr>\n",
              "  </tbody>\n",
              "</table>\n",
              "</div>"
            ],
            "text/plain": [
              "          age  color    food  height  score state\n",
              "Aaron      12    red   Mango     120    9.0    FL\n",
              "Penelope    4  white   Apple      80    3.3    AL\n",
              "Dean       32   gray  Cheese     180    1.8    AK"
            ]
          },
          "metadata": {
            "tags": []
          },
          "execution_count": 35
        }
      ]
    },
    {
      "cell_type": "code",
      "metadata": {
        "colab": {
          "base_uri": "https://localhost:8080/"
        },
        "id": "HURqxSzVaTjI",
        "outputId": "aa3fed48-4c8d-40e5-aeb2-2177876b225c"
      },
      "source": [
        "df.iloc[4]"
      ],
      "execution_count": 36,
      "outputs": [
        {
          "output_type": "execute_result",
          "data": {
            "text/plain": [
              "age           32\n",
              "color       gray\n",
              "food      Cheese\n",
              "height       180\n",
              "score        1.8\n",
              "state         AK\n",
              "Name: Dean, dtype: object"
            ]
          },
          "metadata": {
            "tags": []
          },
          "execution_count": 36
        }
      ]
    },
    {
      "cell_type": "code",
      "metadata": {
        "colab": {
          "base_uri": "https://localhost:8080/",
          "height": 106
        },
        "id": "IdCH8SIvaYo-",
        "outputId": "1492dd9a-74e4-4bff-e0fa-fe6d737dd8f8"
      },
      "source": [
        "df.iloc[[2, -2]]"
      ],
      "execution_count": 37,
      "outputs": [
        {
          "output_type": "execute_result",
          "data": {
            "text/html": [
              "<div>\n",
              "<style scoped>\n",
              "    .dataframe tbody tr th:only-of-type {\n",
              "        vertical-align: middle;\n",
              "    }\n",
              "\n",
              "    .dataframe tbody tr th {\n",
              "        vertical-align: top;\n",
              "    }\n",
              "\n",
              "    .dataframe thead th {\n",
              "        text-align: right;\n",
              "    }\n",
              "</style>\n",
              "<table border=\"1\" class=\"dataframe\">\n",
              "  <thead>\n",
              "    <tr style=\"text-align: right;\">\n",
              "      <th></th>\n",
              "      <th>age</th>\n",
              "      <th>color</th>\n",
              "      <th>food</th>\n",
              "      <th>height</th>\n",
              "      <th>score</th>\n",
              "      <th>state</th>\n",
              "    </tr>\n",
              "  </thead>\n",
              "  <tbody>\n",
              "    <tr>\n",
              "      <th>Aaron</th>\n",
              "      <td>12</td>\n",
              "      <td>red</td>\n",
              "      <td>Mango</td>\n",
              "      <td>120</td>\n",
              "      <td>9.0</td>\n",
              "      <td>FL</td>\n",
              "    </tr>\n",
              "    <tr>\n",
              "      <th>Christina</th>\n",
              "      <td>33</td>\n",
              "      <td>black</td>\n",
              "      <td>Melon</td>\n",
              "      <td>172</td>\n",
              "      <td>9.5</td>\n",
              "      <td>TX</td>\n",
              "    </tr>\n",
              "  </tbody>\n",
              "</table>\n",
              "</div>"
            ],
            "text/plain": [
              "           age  color   food  height  score state\n",
              "Aaron       12    red  Mango     120    9.0    FL\n",
              "Christina   33  black  Melon     172    9.5    TX"
            ]
          },
          "metadata": {
            "tags": []
          },
          "execution_count": 37
        }
      ]
    },
    {
      "cell_type": "code",
      "metadata": {
        "colab": {
          "base_uri": "https://localhost:8080/",
          "height": 106
        },
        "id": "2Ar6FM2SabxP",
        "outputId": "b70510bb-2231-4c37-cfb9-f97b1e9a9105"
      },
      "source": [
        "df.iloc[:5:3]"
      ],
      "execution_count": 38,
      "outputs": [
        {
          "output_type": "execute_result",
          "data": {
            "text/html": [
              "<div>\n",
              "<style scoped>\n",
              "    .dataframe tbody tr th:only-of-type {\n",
              "        vertical-align: middle;\n",
              "    }\n",
              "\n",
              "    .dataframe tbody tr th {\n",
              "        vertical-align: top;\n",
              "    }\n",
              "\n",
              "    .dataframe thead th {\n",
              "        text-align: right;\n",
              "    }\n",
              "</style>\n",
              "<table border=\"1\" class=\"dataframe\">\n",
              "  <thead>\n",
              "    <tr style=\"text-align: right;\">\n",
              "      <th></th>\n",
              "      <th>age</th>\n",
              "      <th>color</th>\n",
              "      <th>food</th>\n",
              "      <th>height</th>\n",
              "      <th>score</th>\n",
              "      <th>state</th>\n",
              "    </tr>\n",
              "  </thead>\n",
              "  <tbody>\n",
              "    <tr>\n",
              "      <th>Jane</th>\n",
              "      <td>30</td>\n",
              "      <td>blue</td>\n",
              "      <td>Steak</td>\n",
              "      <td>165</td>\n",
              "      <td>4.6</td>\n",
              "      <td>NY</td>\n",
              "    </tr>\n",
              "    <tr>\n",
              "      <th>Penelope</th>\n",
              "      <td>4</td>\n",
              "      <td>white</td>\n",
              "      <td>Apple</td>\n",
              "      <td>80</td>\n",
              "      <td>3.3</td>\n",
              "      <td>AL</td>\n",
              "    </tr>\n",
              "  </tbody>\n",
              "</table>\n",
              "</div>"
            ],
            "text/plain": [
              "          age  color   food  height  score state\n",
              "Jane       30   blue  Steak     165    4.6    NY\n",
              "Penelope    4  white  Apple      80    3.3    AL"
            ]
          },
          "metadata": {
            "tags": []
          },
          "execution_count": 38
        }
      ]
    },
    {
      "cell_type": "code",
      "metadata": {
        "colab": {
          "base_uri": "https://localhost:8080/",
          "height": 106
        },
        "id": "Cu64Iui5afxq",
        "outputId": "4379b647-2733-423c-8a65-30e9b25c8453"
      },
      "source": [
        "df.loc[['Jane', 'Dean'], 'height':]"
      ],
      "execution_count": 39,
      "outputs": [
        {
          "output_type": "execute_result",
          "data": {
            "text/html": [
              "<div>\n",
              "<style scoped>\n",
              "    .dataframe tbody tr th:only-of-type {\n",
              "        vertical-align: middle;\n",
              "    }\n",
              "\n",
              "    .dataframe tbody tr th {\n",
              "        vertical-align: top;\n",
              "    }\n",
              "\n",
              "    .dataframe thead th {\n",
              "        text-align: right;\n",
              "    }\n",
              "</style>\n",
              "<table border=\"1\" class=\"dataframe\">\n",
              "  <thead>\n",
              "    <tr style=\"text-align: right;\">\n",
              "      <th></th>\n",
              "      <th>height</th>\n",
              "      <th>score</th>\n",
              "      <th>state</th>\n",
              "    </tr>\n",
              "  </thead>\n",
              "  <tbody>\n",
              "    <tr>\n",
              "      <th>Jane</th>\n",
              "      <td>165</td>\n",
              "      <td>4.6</td>\n",
              "      <td>NY</td>\n",
              "    </tr>\n",
              "    <tr>\n",
              "      <th>Dean</th>\n",
              "      <td>180</td>\n",
              "      <td>1.8</td>\n",
              "      <td>AK</td>\n",
              "    </tr>\n",
              "  </tbody>\n",
              "</table>\n",
              "</div>"
            ],
            "text/plain": [
              "      height  score state\n",
              "Jane     165    4.6    NY\n",
              "Dean     180    1.8    AK"
            ]
          },
          "metadata": {
            "tags": []
          },
          "execution_count": 39
        }
      ]
    },
    {
      "cell_type": "code",
      "metadata": {
        "colab": {
          "base_uri": "https://localhost:8080/"
        },
        "id": "9tpoGgU-ajAs",
        "outputId": "c5217e96-69e2-4084-fbb5-45566181804d"
      },
      "source": [
        "df.iloc[[1,4], 2]"
      ],
      "execution_count": 40,
      "outputs": [
        {
          "output_type": "execute_result",
          "data": {
            "text/plain": [
              "Nick      Lamb\n",
              "Dean    Cheese\n",
              "Name: food, dtype: object"
            ]
          },
          "metadata": {
            "tags": []
          },
          "execution_count": 40
        }
      ]
    },
    {
      "cell_type": "code",
      "metadata": {
        "colab": {
          "base_uri": "https://localhost:8080/",
          "height": 252
        },
        "id": "2iCJXsNqameS",
        "outputId": "5cc429e5-1467-4dd6-e7f7-bb01a06e3753"
      },
      "source": [
        "df.loc[:, 'color':'score':2]"
      ],
      "execution_count": 41,
      "outputs": [
        {
          "output_type": "execute_result",
          "data": {
            "text/html": [
              "<div>\n",
              "<style scoped>\n",
              "    .dataframe tbody tr th:only-of-type {\n",
              "        vertical-align: middle;\n",
              "    }\n",
              "\n",
              "    .dataframe tbody tr th {\n",
              "        vertical-align: top;\n",
              "    }\n",
              "\n",
              "    .dataframe thead th {\n",
              "        text-align: right;\n",
              "    }\n",
              "</style>\n",
              "<table border=\"1\" class=\"dataframe\">\n",
              "  <thead>\n",
              "    <tr style=\"text-align: right;\">\n",
              "      <th></th>\n",
              "      <th>color</th>\n",
              "      <th>height</th>\n",
              "    </tr>\n",
              "  </thead>\n",
              "  <tbody>\n",
              "    <tr>\n",
              "      <th>Jane</th>\n",
              "      <td>blue</td>\n",
              "      <td>165</td>\n",
              "    </tr>\n",
              "    <tr>\n",
              "      <th>Nick</th>\n",
              "      <td>green</td>\n",
              "      <td>70</td>\n",
              "    </tr>\n",
              "    <tr>\n",
              "      <th>Aaron</th>\n",
              "      <td>red</td>\n",
              "      <td>120</td>\n",
              "    </tr>\n",
              "    <tr>\n",
              "      <th>Penelope</th>\n",
              "      <td>white</td>\n",
              "      <td>80</td>\n",
              "    </tr>\n",
              "    <tr>\n",
              "      <th>Dean</th>\n",
              "      <td>gray</td>\n",
              "      <td>180</td>\n",
              "    </tr>\n",
              "    <tr>\n",
              "      <th>Christina</th>\n",
              "      <td>black</td>\n",
              "      <td>172</td>\n",
              "    </tr>\n",
              "    <tr>\n",
              "      <th>Cornelia</th>\n",
              "      <td>red</td>\n",
              "      <td>150</td>\n",
              "    </tr>\n",
              "  </tbody>\n",
              "</table>\n",
              "</div>"
            ],
            "text/plain": [
              "           color  height\n",
              "Jane        blue     165\n",
              "Nick       green      70\n",
              "Aaron        red     120\n",
              "Penelope   white      80\n",
              "Dean        gray     180\n",
              "Christina  black     172\n",
              "Cornelia     red     150"
            ]
          },
          "metadata": {
            "tags": []
          },
          "execution_count": 41
        }
      ]
    },
    {
      "cell_type": "code",
      "metadata": {
        "colab": {
          "base_uri": "https://localhost:8080/",
          "height": 106
        },
        "id": "qk-9_TV6aqcL",
        "outputId": "ecd29492-0c84-436b-d8da-4ef63a72a6e9"
      },
      "source": [
        "labels = ['Nick', 'Cornelia']\n",
        "index_ints = [df.index.get_loc(label) for label in labels]\n",
        "df.iloc[index_ints, [2, 4]]"
      ],
      "execution_count": 42,
      "outputs": [
        {
          "output_type": "execute_result",
          "data": {
            "text/html": [
              "<div>\n",
              "<style scoped>\n",
              "    .dataframe tbody tr th:only-of-type {\n",
              "        vertical-align: middle;\n",
              "    }\n",
              "\n",
              "    .dataframe tbody tr th {\n",
              "        vertical-align: top;\n",
              "    }\n",
              "\n",
              "    .dataframe thead th {\n",
              "        text-align: right;\n",
              "    }\n",
              "</style>\n",
              "<table border=\"1\" class=\"dataframe\">\n",
              "  <thead>\n",
              "    <tr style=\"text-align: right;\">\n",
              "      <th></th>\n",
              "      <th>food</th>\n",
              "      <th>score</th>\n",
              "    </tr>\n",
              "  </thead>\n",
              "  <tbody>\n",
              "    <tr>\n",
              "      <th>Nick</th>\n",
              "      <td>Lamb</td>\n",
              "      <td>8.3</td>\n",
              "    </tr>\n",
              "    <tr>\n",
              "      <th>Cornelia</th>\n",
              "      <td>Beans</td>\n",
              "      <td>2.2</td>\n",
              "    </tr>\n",
              "  </tbody>\n",
              "</table>\n",
              "</div>"
            ],
            "text/plain": [
              "           food  score\n",
              "Nick       Lamb    8.3\n",
              "Cornelia  Beans    2.2"
            ]
          },
          "metadata": {
            "tags": []
          },
          "execution_count": 42
        }
      ]
    },
    {
      "cell_type": "code",
      "metadata": {
        "colab": {
          "base_uri": "https://localhost:8080/",
          "height": 135
        },
        "id": "B4LvKTx4aufj",
        "outputId": "c0fb6f3a-5082-4b9f-d64a-4b732fd0c549"
      },
      "source": [
        "df.loc[df['age'] > 30, ['food', 'score']] "
      ],
      "execution_count": 43,
      "outputs": [
        {
          "output_type": "execute_result",
          "data": {
            "text/html": [
              "<div>\n",
              "<style scoped>\n",
              "    .dataframe tbody tr th:only-of-type {\n",
              "        vertical-align: middle;\n",
              "    }\n",
              "\n",
              "    .dataframe tbody tr th {\n",
              "        vertical-align: top;\n",
              "    }\n",
              "\n",
              "    .dataframe thead th {\n",
              "        text-align: right;\n",
              "    }\n",
              "</style>\n",
              "<table border=\"1\" class=\"dataframe\">\n",
              "  <thead>\n",
              "    <tr style=\"text-align: right;\">\n",
              "      <th></th>\n",
              "      <th>food</th>\n",
              "      <th>score</th>\n",
              "    </tr>\n",
              "  </thead>\n",
              "  <tbody>\n",
              "    <tr>\n",
              "      <th>Dean</th>\n",
              "      <td>Cheese</td>\n",
              "      <td>1.8</td>\n",
              "    </tr>\n",
              "    <tr>\n",
              "      <th>Christina</th>\n",
              "      <td>Melon</td>\n",
              "      <td>9.5</td>\n",
              "    </tr>\n",
              "    <tr>\n",
              "      <th>Cornelia</th>\n",
              "      <td>Beans</td>\n",
              "      <td>2.2</td>\n",
              "    </tr>\n",
              "  </tbody>\n",
              "</table>\n",
              "</div>"
            ],
            "text/plain": [
              "             food  score\n",
              "Dean       Cheese    1.8\n",
              "Christina   Melon    9.5\n",
              "Cornelia    Beans    2.2"
            ]
          },
          "metadata": {
            "tags": []
          },
          "execution_count": 43
        }
      ]
    },
    {
      "cell_type": "code",
      "metadata": {
        "colab": {
          "base_uri": "https://localhost:8080/",
          "height": 135
        },
        "id": "HhHfh6ojaxph",
        "outputId": "4822c58f-e00c-4187-8435-d2ef735c305b"
      },
      "source": [
        "df.iloc[(df['age'] > 30).values, [2, 4]] "
      ],
      "execution_count": 44,
      "outputs": [
        {
          "output_type": "execute_result",
          "data": {
            "text/html": [
              "<div>\n",
              "<style scoped>\n",
              "    .dataframe tbody tr th:only-of-type {\n",
              "        vertical-align: middle;\n",
              "    }\n",
              "\n",
              "    .dataframe tbody tr th {\n",
              "        vertical-align: top;\n",
              "    }\n",
              "\n",
              "    .dataframe thead th {\n",
              "        text-align: right;\n",
              "    }\n",
              "</style>\n",
              "<table border=\"1\" class=\"dataframe\">\n",
              "  <thead>\n",
              "    <tr style=\"text-align: right;\">\n",
              "      <th></th>\n",
              "      <th>food</th>\n",
              "      <th>score</th>\n",
              "    </tr>\n",
              "  </thead>\n",
              "  <tbody>\n",
              "    <tr>\n",
              "      <th>Dean</th>\n",
              "      <td>Cheese</td>\n",
              "      <td>1.8</td>\n",
              "    </tr>\n",
              "    <tr>\n",
              "      <th>Christina</th>\n",
              "      <td>Melon</td>\n",
              "      <td>9.5</td>\n",
              "    </tr>\n",
              "    <tr>\n",
              "      <th>Cornelia</th>\n",
              "      <td>Beans</td>\n",
              "      <td>2.2</td>\n",
              "    </tr>\n",
              "  </tbody>\n",
              "</table>\n",
              "</div>"
            ],
            "text/plain": [
              "             food  score\n",
              "Dean       Cheese    1.8\n",
              "Christina   Melon    9.5\n",
              "Cornelia    Beans    2.2"
            ]
          },
          "metadata": {
            "tags": []
          },
          "execution_count": 44
        }
      ]
    },
    {
      "cell_type": "code",
      "metadata": {
        "colab": {
          "base_uri": "https://localhost:8080/",
          "height": 252
        },
        "id": "aKtv0gqga1u2",
        "outputId": "10ce3bd9-4378-447e-a82f-bd4423e1404d"
      },
      "source": [
        "df.loc[:, 'color':'score':2]"
      ],
      "execution_count": 45,
      "outputs": [
        {
          "output_type": "execute_result",
          "data": {
            "text/html": [
              "<div>\n",
              "<style scoped>\n",
              "    .dataframe tbody tr th:only-of-type {\n",
              "        vertical-align: middle;\n",
              "    }\n",
              "\n",
              "    .dataframe tbody tr th {\n",
              "        vertical-align: top;\n",
              "    }\n",
              "\n",
              "    .dataframe thead th {\n",
              "        text-align: right;\n",
              "    }\n",
              "</style>\n",
              "<table border=\"1\" class=\"dataframe\">\n",
              "  <thead>\n",
              "    <tr style=\"text-align: right;\">\n",
              "      <th></th>\n",
              "      <th>color</th>\n",
              "      <th>height</th>\n",
              "    </tr>\n",
              "  </thead>\n",
              "  <tbody>\n",
              "    <tr>\n",
              "      <th>Jane</th>\n",
              "      <td>blue</td>\n",
              "      <td>165</td>\n",
              "    </tr>\n",
              "    <tr>\n",
              "      <th>Nick</th>\n",
              "      <td>green</td>\n",
              "      <td>70</td>\n",
              "    </tr>\n",
              "    <tr>\n",
              "      <th>Aaron</th>\n",
              "      <td>red</td>\n",
              "      <td>120</td>\n",
              "    </tr>\n",
              "    <tr>\n",
              "      <th>Penelope</th>\n",
              "      <td>white</td>\n",
              "      <td>80</td>\n",
              "    </tr>\n",
              "    <tr>\n",
              "      <th>Dean</th>\n",
              "      <td>gray</td>\n",
              "      <td>180</td>\n",
              "    </tr>\n",
              "    <tr>\n",
              "      <th>Christina</th>\n",
              "      <td>black</td>\n",
              "      <td>172</td>\n",
              "    </tr>\n",
              "    <tr>\n",
              "      <th>Cornelia</th>\n",
              "      <td>red</td>\n",
              "      <td>150</td>\n",
              "    </tr>\n",
              "  </tbody>\n",
              "</table>\n",
              "</div>"
            ],
            "text/plain": [
              "           color  height\n",
              "Jane        blue     165\n",
              "Nick       green      70\n",
              "Aaron        red     120\n",
              "Penelope   white      80\n",
              "Dean        gray     180\n",
              "Christina  black     172\n",
              "Cornelia     red     150"
            ]
          },
          "metadata": {
            "tags": []
          },
          "execution_count": 45
        }
      ]
    },
    {
      "cell_type": "code",
      "metadata": {
        "colab": {
          "base_uri": "https://localhost:8080/"
        },
        "id": "bXJ6o88_a5a0",
        "outputId": "b940259f-4021-4629-b2fe-03302741c0ec"
      },
      "source": [
        "df['food']"
      ],
      "execution_count": 46,
      "outputs": [
        {
          "output_type": "execute_result",
          "data": {
            "text/plain": [
              "Jane          Steak\n",
              "Nick           Lamb\n",
              "Aaron         Mango\n",
              "Penelope      Apple\n",
              "Dean         Cheese\n",
              "Christina     Melon\n",
              "Cornelia      Beans\n",
              "Name: food, dtype: object"
            ]
          },
          "metadata": {
            "tags": []
          },
          "execution_count": 46
        }
      ]
    },
    {
      "cell_type": "code",
      "metadata": {
        "colab": {
          "base_uri": "https://localhost:8080/",
          "height": 252
        },
        "id": "_quuhBB2a9O8",
        "outputId": "d8fe5428-7de3-409d-e2ba-4b46d8a1dca4"
      },
      "source": [
        "df[['food', 'score']]"
      ],
      "execution_count": 47,
      "outputs": [
        {
          "output_type": "execute_result",
          "data": {
            "text/html": [
              "<div>\n",
              "<style scoped>\n",
              "    .dataframe tbody tr th:only-of-type {\n",
              "        vertical-align: middle;\n",
              "    }\n",
              "\n",
              "    .dataframe tbody tr th {\n",
              "        vertical-align: top;\n",
              "    }\n",
              "\n",
              "    .dataframe thead th {\n",
              "        text-align: right;\n",
              "    }\n",
              "</style>\n",
              "<table border=\"1\" class=\"dataframe\">\n",
              "  <thead>\n",
              "    <tr style=\"text-align: right;\">\n",
              "      <th></th>\n",
              "      <th>food</th>\n",
              "      <th>score</th>\n",
              "    </tr>\n",
              "  </thead>\n",
              "  <tbody>\n",
              "    <tr>\n",
              "      <th>Jane</th>\n",
              "      <td>Steak</td>\n",
              "      <td>4.6</td>\n",
              "    </tr>\n",
              "    <tr>\n",
              "      <th>Nick</th>\n",
              "      <td>Lamb</td>\n",
              "      <td>8.3</td>\n",
              "    </tr>\n",
              "    <tr>\n",
              "      <th>Aaron</th>\n",
              "      <td>Mango</td>\n",
              "      <td>9.0</td>\n",
              "    </tr>\n",
              "    <tr>\n",
              "      <th>Penelope</th>\n",
              "      <td>Apple</td>\n",
              "      <td>3.3</td>\n",
              "    </tr>\n",
              "    <tr>\n",
              "      <th>Dean</th>\n",
              "      <td>Cheese</td>\n",
              "      <td>1.8</td>\n",
              "    </tr>\n",
              "    <tr>\n",
              "      <th>Christina</th>\n",
              "      <td>Melon</td>\n",
              "      <td>9.5</td>\n",
              "    </tr>\n",
              "    <tr>\n",
              "      <th>Cornelia</th>\n",
              "      <td>Beans</td>\n",
              "      <td>2.2</td>\n",
              "    </tr>\n",
              "  </tbody>\n",
              "</table>\n",
              "</div>"
            ],
            "text/plain": [
              "             food  score\n",
              "Jane        Steak    4.6\n",
              "Nick         Lamb    8.3\n",
              "Aaron       Mango    9.0\n",
              "Penelope    Apple    3.3\n",
              "Dean       Cheese    1.8\n",
              "Christina   Melon    9.5\n",
              "Cornelia    Beans    2.2"
            ]
          },
          "metadata": {
            "tags": []
          },
          "execution_count": 47
        }
      ]
    },
    {
      "cell_type": "code",
      "metadata": {
        "colab": {
          "base_uri": "https://localhost:8080/",
          "height": 135
        },
        "id": "alMZcsEwbA06",
        "outputId": "2577f020-4a74-4727-a2d9-35a8c554ed8b"
      },
      "source": [
        "df['Penelope':'Christina'] # slice rows by label"
      ],
      "execution_count": 48,
      "outputs": [
        {
          "output_type": "execute_result",
          "data": {
            "text/html": [
              "<div>\n",
              "<style scoped>\n",
              "    .dataframe tbody tr th:only-of-type {\n",
              "        vertical-align: middle;\n",
              "    }\n",
              "\n",
              "    .dataframe tbody tr th {\n",
              "        vertical-align: top;\n",
              "    }\n",
              "\n",
              "    .dataframe thead th {\n",
              "        text-align: right;\n",
              "    }\n",
              "</style>\n",
              "<table border=\"1\" class=\"dataframe\">\n",
              "  <thead>\n",
              "    <tr style=\"text-align: right;\">\n",
              "      <th></th>\n",
              "      <th>age</th>\n",
              "      <th>color</th>\n",
              "      <th>food</th>\n",
              "      <th>height</th>\n",
              "      <th>score</th>\n",
              "      <th>state</th>\n",
              "    </tr>\n",
              "  </thead>\n",
              "  <tbody>\n",
              "    <tr>\n",
              "      <th>Penelope</th>\n",
              "      <td>4</td>\n",
              "      <td>white</td>\n",
              "      <td>Apple</td>\n",
              "      <td>80</td>\n",
              "      <td>3.3</td>\n",
              "      <td>AL</td>\n",
              "    </tr>\n",
              "    <tr>\n",
              "      <th>Dean</th>\n",
              "      <td>32</td>\n",
              "      <td>gray</td>\n",
              "      <td>Cheese</td>\n",
              "      <td>180</td>\n",
              "      <td>1.8</td>\n",
              "      <td>AK</td>\n",
              "    </tr>\n",
              "    <tr>\n",
              "      <th>Christina</th>\n",
              "      <td>33</td>\n",
              "      <td>black</td>\n",
              "      <td>Melon</td>\n",
              "      <td>172</td>\n",
              "      <td>9.5</td>\n",
              "      <td>TX</td>\n",
              "    </tr>\n",
              "  </tbody>\n",
              "</table>\n",
              "</div>"
            ],
            "text/plain": [
              "           age  color    food  height  score state\n",
              "Penelope     4  white   Apple      80    3.3    AL\n",
              "Dean        32   gray  Cheese     180    1.8    AK\n",
              "Christina   33  black   Melon     172    9.5    TX"
            ]
          },
          "metadata": {
            "tags": []
          },
          "execution_count": 48
        }
      ]
    },
    {
      "cell_type": "code",
      "metadata": {
        "colab": {
          "base_uri": "https://localhost:8080/",
          "height": 106
        },
        "id": "AaQqsuNMbDV1",
        "outputId": "c741c827-887f-4879-9924-cfb7d7582886"
      },
      "source": [
        "df[2:6:2] # slice rows by integer location"
      ],
      "execution_count": 49,
      "outputs": [
        {
          "output_type": "execute_result",
          "data": {
            "text/html": [
              "<div>\n",
              "<style scoped>\n",
              "    .dataframe tbody tr th:only-of-type {\n",
              "        vertical-align: middle;\n",
              "    }\n",
              "\n",
              "    .dataframe tbody tr th {\n",
              "        vertical-align: top;\n",
              "    }\n",
              "\n",
              "    .dataframe thead th {\n",
              "        text-align: right;\n",
              "    }\n",
              "</style>\n",
              "<table border=\"1\" class=\"dataframe\">\n",
              "  <thead>\n",
              "    <tr style=\"text-align: right;\">\n",
              "      <th></th>\n",
              "      <th>age</th>\n",
              "      <th>color</th>\n",
              "      <th>food</th>\n",
              "      <th>height</th>\n",
              "      <th>score</th>\n",
              "      <th>state</th>\n",
              "    </tr>\n",
              "  </thead>\n",
              "  <tbody>\n",
              "    <tr>\n",
              "      <th>Aaron</th>\n",
              "      <td>12</td>\n",
              "      <td>red</td>\n",
              "      <td>Mango</td>\n",
              "      <td>120</td>\n",
              "      <td>9.0</td>\n",
              "      <td>FL</td>\n",
              "    </tr>\n",
              "    <tr>\n",
              "      <th>Dean</th>\n",
              "      <td>32</td>\n",
              "      <td>gray</td>\n",
              "      <td>Cheese</td>\n",
              "      <td>180</td>\n",
              "      <td>1.8</td>\n",
              "      <td>AK</td>\n",
              "    </tr>\n",
              "  </tbody>\n",
              "</table>\n",
              "</div>"
            ],
            "text/plain": [
              "       age color    food  height  score state\n",
              "Aaron   12   red   Mango     120    9.0    FL\n",
              "Dean    32  gray  Cheese     180    1.8    AK"
            ]
          },
          "metadata": {
            "tags": []
          },
          "execution_count": 49
        }
      ]
    },
    {
      "cell_type": "code",
      "metadata": {
        "id": "8k8uUOY6bG6u"
      },
      "source": [
        ""
      ],
      "execution_count": null,
      "outputs": []
    }
  ]
}