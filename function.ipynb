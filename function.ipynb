{
 "cells": [
  {
   "cell_type": "code",
   "execution_count": 21,
   "metadata": {},
   "outputs": [],
   "source": [
    "#function --> 1. a group of statements that is used to execute a single task\n",
    "# 2. the main purpose of function is to perform a single task repeatedly.\n",
    "# 3. once a function is declared means it can be called or used anywhere according to the\n",
    "#    requirement.\n",
    "# 4. it of 2 types\n",
    "#    a. Built-in Functions\n",
    "#    b. user defined Functions\n",
    "# 5. functions are called reusable codes to avoid redundancy\n",
    "# 6. functions are used to divide a main task into sub parts.\n",
    "# 7. functions are used to make programming easy."
   ]
  },
  {
   "cell_type": "code",
   "execution_count": 22,
   "metadata": {},
   "outputs": [
    {
     "name": "stdout",
     "output_type": "stream",
     "text": [
      "sum of a,b is: 30\n",
      "sum of 10,20 is: 30\n"
     ]
    }
   ],
   "source": [
    "# calling of functions\n",
    "# 1st way\n",
    "def add():\n",
    "    a=10\n",
    "    b=20\n",
    "    c=a+b\n",
    "    print(\"sum of a,b is:\",c)\n",
    "    print(\"sum of {},{} is: {}\".format(a,b,c))\n",
    "\n",
    "add()"
   ]
  },
  {
   "cell_type": "code",
   "execution_count": 23,
   "metadata": {},
   "outputs": [
    {
     "name": "stdout",
     "output_type": "stream",
     "text": [
      "46\n",
      "sum of a and b is:  22\n",
      "sum of a and b is:  22.810000000000002\n"
     ]
    }
   ],
   "source": [
    "# 2nd way\n",
    "# in this case the function only prints the output when it is called inside a print statement\n",
    "def add1(a,b):\n",
    "    c = a+b\n",
    "    return c\n",
    "\n",
    "x = add1(12,34)\n",
    "print(x)\n",
    "print(\"sum of a and b is: \",add1(10,12))\n",
    "print(\"sum of a and b is: \",add1(10.25,12.56))"
   ]
  },
  {
   "cell_type": "code",
   "execution_count": 24,
   "metadata": {},
   "outputs": [
    {
     "name": "stdout",
     "output_type": "stream",
     "text": [
      "(15, 9, 36, 4.0, 0, 4, 1728)\n",
      "sum is:  15\n",
      "sub is:  9\n",
      "multiplication is:  36\n",
      "division is:  4.0\n",
      "modulus is:  0\n",
      "floor division is:  4\n",
      "exponention is:  1728\n"
     ]
    }
   ],
   "source": [
    "# 3rd way\n",
    "# multiple values can be returned by a single return statement\n",
    "def sum(a,b):\n",
    "    c=a+b\n",
    "    d=a-b\n",
    "    e=a*b\n",
    "    f=a/b\n",
    "    g=a%b\n",
    "    h=a//b\n",
    "    i=a**b\n",
    "    return c,d,e,f,g,h,i\n",
    "\n",
    "print(sum(12,3))\n",
    "q,w,e,r,t,y,u = sum(12,3)\n",
    "print(\"sum is: \",q)\n",
    "print(\"sub is: \",w)\n",
    "print(\"multiplication is: \",e)\n",
    "print(\"division is: \",r)\n",
    "print(\"modulus is: \",t)\n",
    "print(\"floor division is: \",y)\n",
    "print(\"exponention is: \",u)\n"
   ]
  },
  {
   "cell_type": "code",
   "execution_count": 25,
   "metadata": {},
   "outputs": [
    {
     "name": "stdout",
     "output_type": "stream",
     "text": [
      "sum is: 46\n"
     ]
    }
   ],
   "source": [
    "# 4th way\n",
    "def another(a,b):\n",
    "    c = a+b\n",
    "    return c\n",
    "\n",
    "x=another(12,34)\n",
    "print(\"sum is:\",x)"
   ]
  },
  {
   "cell_type": "code",
   "execution_count": 26,
   "metadata": {},
   "outputs": [
    {
     "name": "stdout",
     "output_type": "stream",
     "text": [
      "Enter the number: 12\n",
      "num is even\n"
     ]
    }
   ],
   "source": [
    "# how to check a number is even or odd taking input\n",
    "def even_odd(a):\n",
    "    # check the number is even or odd\n",
    "    if a%2==0:\n",
    "        print(\"num is even\")\n",
    "    else:\n",
    "        print(\"num is odd\")\n",
    "\n",
    "x=int(input(\"Enter the number: \"))\n",
    "even_odd(x)"
   ]
  },
  {
   "cell_type": "code",
   "execution_count": 27,
   "metadata": {},
   "outputs": [
    {
     "name": "stdout",
     "output_type": "stream",
     "text": [
      "factorial of n is : 120\n",
      "factorial of n is : 3628800\n",
      "factorial of 0 is:1\n",
      "factorial of 1 is:1\n",
      "factorial of 2 is:2\n",
      "factorial of 3 is:6\n",
      "factorial of 4 is:24\n",
      "factorial of 5 is:120\n",
      "factorial of 6 is:720\n",
      "factorial of 7 is:5040\n",
      "factorial of 8 is:40320\n",
      "factorial of 9 is:362880\n",
      "factorial of 10 is:3628800\n"
     ]
    }
   ],
   "source": [
    "# find out factorial of a number\n",
    "# 5! = 5*4*3*2*1\n",
    "# 10! = 10*9*8*7*6*5*4*3*2*1\n",
    "def fact(n):\n",
    "    # logic for finding factorial\n",
    "    f = 1\n",
    "    while (n>=1):\n",
    "        f*=n\n",
    "        n-=1\n",
    "    return f\n",
    "\n",
    "print(\"factorial of n is :\", fact(5))\n",
    "print(\"factorial of n is :\", fact(10))\n",
    "\n",
    "# display factorial of numbers from 1 to 10\n",
    "for i in range(0,11):\n",
    "    print(\"factorial of {} is:{}\".format(i, fact(i)))\n"
   ]
  },
  {
   "cell_type": "code",
   "execution_count": 28,
   "metadata": {},
   "outputs": [
    {
     "name": "stdout",
     "output_type": "stream",
     "text": [
      "ENter a number: 12\n",
      "12  is not a prime number\n"
     ]
    }
   ],
   "source": [
    "# how to check a number is prime or not.\n",
    "# A number must have two dividends i.e. 1 and the number itself only.\n",
    "# algorithm for finding out 5 is prime or not\n",
    "# take the number and check from 2 to 5 if there is any dividends available or not\n",
    "# divide each number from 2 to 5 by 5\n",
    "# take a counter value and assign it 1 if it is prime else if it is 0 then it is not prime.\n",
    "def prime_check(n):\n",
    "    x=1\n",
    "    for i in range(2,n):\n",
    "        if n%i==0:\n",
    "            x=0\n",
    "            break\n",
    "        else:\n",
    "            x=1\n",
    "    return x\n",
    "\n",
    "x = int(input(\"ENter a number: \"))\n",
    "result = prime_check(x)\n",
    "if result==1:\n",
    "    print(x,\" is a prime number\")\n",
    "else:\n",
    "    print(x,\" is not a prime number\")\n"
   ]
  },
  {
   "cell_type": "code",
   "execution_count": 29,
   "metadata": {},
   "outputs": [
    {
     "name": "stdout",
     "output_type": "stream",
     "text": [
      "how many prime numbers required? 12\n",
      "2\n",
      "3\n",
      "5\n",
      "7\n",
      "11\n",
      "13\n",
      "17\n",
      "19\n",
      "23\n",
      "29\n",
      "31\n",
      "37\n"
     ]
    }
   ],
   "source": [
    "# generate the prime number series \n",
    "# logic\n",
    "# take an input upto which the series is going to be displayed.\n",
    "# start a loop from 2.\n",
    "# make the loop true for each time a number get checked.\n",
    "# make a counter value that counts the prime numbers.\n",
    "\n",
    "def prime_check(n):\n",
    "    x=1\n",
    "    for i in range(2,n):\n",
    "        if n%i==0:\n",
    "            x=0\n",
    "            break\n",
    "        else:\n",
    "            x=1\n",
    "    return x\n",
    "\n",
    "x = int(input(\"how many prime numbers required? \"))\n",
    "i=2\n",
    "c=1\n",
    "while True:\n",
    "    if prime_check(i):\n",
    "        print(i)\n",
    "        c+=1\n",
    "    i+=1\n",
    "    if c>x:\n",
    "        break\n",
    "# x=5\n",
    "# i=2 c=2\n",
    "# i=3 c=3\n",
    "# i=4 c=3\n",
    "# i=5 c=4\n",
    "# i=6 c=4\n",
    "# i=7 c=5\n",
    "# i=8 c=5\n",
    "\n",
    "\n",
    "\n"
   ]
  },
  {
   "cell_type": "code",
   "execution_count": 30,
   "metadata": {},
   "outputs": [
    {
     "name": "stdout",
     "output_type": "stream",
     "text": [
      "enter a number: 12\n",
      "12\n"
     ]
    }
   ],
   "source": [
    "# functions are first class objects\n",
    "# it is possible to assign a function to a variable.\n",
    "\n",
    "def fun():\n",
    "    i = int(input(\"enter a number: \"))\n",
    "    return i\n",
    "\n",
    "x=fun()\n",
    "print(x)"
   ]
  },
  {
   "cell_type": "code",
   "execution_count": 31,
   "metadata": {},
   "outputs": [
    {
     "name": "stdout",
     "output_type": "stream",
     "text": [
      "Hello Python!!!!!\n"
     ]
    }
   ],
   "source": [
    "# it is possible to define a function inside another function\n",
    "def message(str):\n",
    "    def fun():\n",
    "        return \"Hello \"\n",
    "\n",
    "    res = fun()+str\n",
    "    return res\n",
    "\n",
    "print(message(\"Python!!!!!\"))"
   ]
  },
  {
   "cell_type": "code",
   "execution_count": 32,
   "metadata": {},
   "outputs": [
    {
     "name": "stdout",
     "output_type": "stream",
     "text": [
      "Hello python!!!!\n"
     ]
    }
   ],
   "source": [
    "# it is possible to pass a functions as parameter to another function\n",
    "def display(fun):\n",
    "    return \"Hello \"+fun\n",
    "\n",
    "def call():\n",
    "    return \"python!!!!\"\n",
    "\n",
    "print(display(call()))\n"
   ]
  },
  {
   "cell_type": "code",
   "execution_count": 33,
   "metadata": {},
   "outputs": [
    {
     "name": "stdout",
     "output_type": "stream",
     "text": [
      "Hello Moto!!!!!\n"
     ]
    }
   ],
   "source": [
    "# it is possible that a fucntion can return another function\n",
    "def myfun():\n",
    "    def anotherfun():\n",
    "        return \"Hello Moto!!!!!\"\n",
    "    \n",
    "    return anotherfun\n",
    "\n",
    "x=myfun()\n",
    "# when myfun is assigned over \"x\" then x also becomes a new function\n",
    "print(x())"
   ]
  },
  {
   "cell_type": "code",
   "execution_count": 34,
   "metadata": {},
   "outputs": [
    {
     "name": "stdout",
     "output_type": "stream",
     "text": [
      "13 140722683783328\n",
      "15 140722683783392\n",
      "13 140722683783328\n",
      "15 140722683783392\n"
     ]
    }
   ],
   "source": [
    "# calling of functions\n",
    "# 2 ways for calling a function\n",
    "# call by value (pass by value)\n",
    "# call by reference (pass by reference)\n",
    "\n",
    "# call by value\n",
    "def myfun(x):\n",
    "    x=13\n",
    "    print(x, id(x))\n",
    "\n",
    "x=15\n",
    "myfun(x)\n",
    "print(x, id(x))\n",
    "\n",
    "def myfun1(x):\n",
    "    x=13\n",
    "    print(x, id(x))\n",
    "\n",
    "y=15\n",
    "myfun1(y)\n",
    "print(y, id(y))\n",
    "\n",
    "# local varible\n",
    "# this varible says that if a varible is used inside a function then the life time limits upto that function exists.\n",
    "# after the job of functions gets over then the scope of variable also over.\n",
    "# the preference of local varible inside a function is always top most."
   ]
  },
  {
   "cell_type": "code",
   "execution_count": 35,
   "metadata": {},
   "outputs": [
    {
     "name": "stdout",
     "output_type": "stream",
     "text": [
      "the length and id of list before modifying is:  5 2989643737088\n",
      "[12, 23, 34, 45, 67, 90]\n",
      "the length and id of list after modifying is:  6 2989643737088\n"
     ]
    }
   ],
   "source": [
    "# call by reference\n",
    "lst=[12,23,34,45,67]\n",
    "print(\"the length and id of list before modifying is: \", len(lst), id(lst))\n",
    "\n",
    "def modify(lst):\n",
    "    lst.append(90)\n",
    "    print(lst)\n",
    "    print(\"the length and id of list after modifying is: \", len(lst), id(lst))\n",
    "\n",
    "modify(lst)\n"
   ]
  },
  {
   "cell_type": "code",
   "execution_count": 36,
   "metadata": {},
   "outputs": [
    {
     "name": "stdout",
     "output_type": "stream",
     "text": [
      "30\n",
      "Hello Python!!!!\n",
      "item= note5 price= 12300\n",
      "\n",
      "item= note5 price= 12300\n",
      "\n",
      "item= note5 price= 12300\n",
      "\n",
      "item= note5 price= 1000\n",
      "\n",
      "24\n",
      "formal argument is= 12\n",
      "sum of all elements are= 158\n",
      "sum of  elements in args are= 146\n",
      "sum of all elements are:  25\n",
      "sum of all elements are:  48\n",
      "sum of all elements are:  93\n",
      "sum of all elements are:  205\n",
      "key=  name and  value is:  a\n",
      "key=  age and  value is:  10\n",
      "key=  roll and  value is:  1234\n",
      "key=  college and  value is:  asmit\n",
      "key=  a and  value is:  10\n",
      "key=  b and  value is:  12\n",
      "key=  c and  value is:  13\n",
      "key=  d and  value is:  14\n",
      "key=  e and  value is:  34\n",
      "key=  f and  value is:  45\n",
      "key=  g and  value is:  56\n"
     ]
    }
   ],
   "source": [
    "# arguments\n",
    "# formal arguments\n",
    "# actual arguments\n",
    "def sum(a,b): # formal arguments\n",
    "    c=a+b\n",
    "    print(c)\n",
    "\n",
    "x=10; y=20\n",
    "sum(x,y) # actual argument\n",
    "# actual arguments are following types\n",
    "\n",
    "# positional argument\n",
    "\n",
    "def join(s1,s2,s3):\n",
    "    s4= s1+s2+s3\n",
    "    print(s4)\n",
    "\n",
    "join('Hello',' ', 'Python!!!!')\n",
    "\n",
    "# keyword argument\n",
    "def store(item, price):\n",
    "    print('item= {}'.format((item)), 'price= {}'.format((price)))\n",
    "    print()\n",
    "\n",
    "store(item='note5', price=12300)\n",
    "store(price=12300, item='note5')\n",
    "\n",
    "# default argument\n",
    "def store1(item, price=1000):\n",
    "    print('item= {}'.format((item)), 'price= {}'.format((price)))\n",
    "    print()\n",
    "\n",
    "store1(item='note5', price=12300)\n",
    "store1(item='note5')\n",
    "\n",
    "# variable length argument\n",
    "def marks(a, b):\n",
    "    return a+b\n",
    "\n",
    "x=marks(12,12)\n",
    "print(x)\n",
    "\n",
    "# varible length argument\n",
    "# *args stores all the values in the form of list\n",
    "def variable_example(a,b, *args):\n",
    "    print(\"formal argument is=\",a)\n",
    "    sum=0\n",
    "    for i in args:\n",
    "        sum+=i\n",
    "    print(\"sum of all elements are=\", (a+sum))\n",
    "    print(\"sum of  elements in args are=\", sum)\n",
    "\n",
    "variable_example(12,90,34,45,67)\n",
    "\n",
    "def add(*args):\n",
    "    sum=0\n",
    "    for i in args:\n",
    "        sum+=i\n",
    "    print(\"sum of all elements are: \", sum)\n",
    "\n",
    "add(12,13)\n",
    "add(12,13,23)\n",
    "add(12,13,23,45)\n",
    "add(12,13,67,45,68)\n",
    "\n",
    "\n",
    "# keyword variable length argument\n",
    "# kwargs store elements in a dictionary in key and value pair format\n",
    "# {'a':10, 'b':12, 'c':13, 'd':14}\n",
    "def display(**kwargs):\n",
    "    for x,y in kwargs.items(): # items() extracts each key and value associated with the key as pair of elements\n",
    "        print(\"key= \",x, \"and \", \"value is: \", y)\n",
    "\n",
    "display(name='a', age=10, roll=1234, college='asmit')\n",
    "display(a=10, b=12, c=13, d=14,e=34,f=45,g=56)\n",
    "\n",
    "\n"
   ]
  },
  {
   "cell_type": "code",
   "execution_count": null,
   "metadata": {},
   "outputs": [],
   "source": []
  }
 ],
 "metadata": {
  "kernelspec": {
   "display_name": "Python 3",
   "language": "python",
   "name": "python3"
  },
  "language_info": {
   "codemirror_mode": {
    "name": "ipython",
    "version": 3
   },
   "file_extension": ".py",
   "mimetype": "text/x-python",
   "name": "python",
   "nbconvert_exporter": "python",
   "pygments_lexer": "ipython3",
   "version": "3.8.5"
  }
 },
 "nbformat": 4,
 "nbformat_minor": 4
}
